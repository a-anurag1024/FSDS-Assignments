{
 "cells": [
  {
   "cell_type": "markdown",
   "id": "714fa568",
   "metadata": {},
   "source": [
    "### Question 1: Write a Python program to Extract Unique values dictionary values?"
   ]
  },
  {
   "cell_type": "code",
   "execution_count": 3,
   "id": "20691015",
   "metadata": {},
   "outputs": [
    {
     "name": "stdout",
     "output_type": "stream",
     "text": [
      "The given dictionary is:  {1: 'hello', 2: 'mello', 3: 'cello', 4: 'jello', 5: 'hello'}\n",
      "The unique values in the dictionary are:  {'jello', 'mello', 'cello', 'hello'}\n"
     ]
    }
   ],
   "source": [
    "# Given dictionary example:- \n",
    "di = { 1: 'hello', 2: 'mello', 3: 'cello', 4: 'jello', 5: 'hello'}\n",
    "\n",
    "print(\"The given dictionary is: \", di)\n",
    "print(\"The unique values in the dictionary are: \", set(di.values()))"
   ]
  },
  {
   "cell_type": "markdown",
   "id": "d799c010",
   "metadata": {},
   "source": [
    "### Question 2: Write a Python program to find the sum of all items in a dictionary?"
   ]
  },
  {
   "cell_type": "code",
   "execution_count": 10,
   "id": "a96a3a02",
   "metadata": {},
   "outputs": [
    {
     "name": "stdout",
     "output_type": "stream",
     "text": [
      "The given dictionary is:  {1: 5, 2: 4, 3: 6, 'alpha': 9, 'beta': 8, 7: 'Aditya'}\n",
      "The sum of all the items in the given dictionary is:  45\n"
     ]
    }
   ],
   "source": [
    "#Given dictionary example:-\n",
    "\n",
    "di = {1:5, 2:4, 3:6, 'alpha': 9, 'beta':8, 7:\"Aditya\"}\n",
    "\n",
    "print(\"The given dictionary is: \", di)\n",
    "\n",
    "sum1 = 0 \n",
    "for i in di.items():\n",
    "    if(type(i[0])==int or type(i[0])==float):\n",
    "        sum1 += i[0]\n",
    "    if(type(i[1])==int or type(i[1])==float):\n",
    "        sum1 += i[1]\n",
    "\n",
    "print(\"The sum of all the items in the given dictionary is: \", sum1)"
   ]
  },
  {
   "cell_type": "markdown",
   "id": "d68763c5",
   "metadata": {},
   "source": [
    "### Question 3: Write a Python program to Merging two Dictionaries?"
   ]
  },
  {
   "cell_type": "code",
   "execution_count": 21,
   "id": "050466e2",
   "metadata": {},
   "outputs": [
    {
     "name": "stdout",
     "output_type": "stream",
     "text": [
      "The given dictionaries are: \n",
      " {1: 'hello', 2: 'mello', 3: 'cello', 4: 'jello', 5: 'hello'} \n",
      " {6: 'bye', 7: 'rye', 8: 'tie', 9: 'lie', 10: 'chai'}\n",
      "The merged dictionary is: \n",
      " {1: 'hello', 2: 'mello', 3: 'cello', 4: 'jello', 5: 'hello', 6: 'bye', 7: 'rye', 8: 'tie', 9: 'lie', 10: 'chai'}\n"
     ]
    }
   ],
   "source": [
    "# Given two dictionaries example:-\n",
    "di1 = { 1: 'hello', 2: 'mello', 3: 'cello', 4: 'jello', 5: 'hello'}\n",
    "di2 = { 6: 'bye', 7:'rye', 8: 'tie', 9: 'lie', 10: 'chai'}\n",
    "\n",
    "flag = 1\n",
    "for i in di1:\n",
    "    if(i in di2):\n",
    "        print(\"Keyword conflict !! can't merge the dictionaries.\")\n",
    "        flag = 0\n",
    "if(flag):\n",
    "    di3 = {}\n",
    "    for i in di1.items():\n",
    "        di3[i[0]] = i[1]\n",
    "    for j in di2.items():\n",
    "        di3[j[0]] = j[1]\n",
    "    print(\"The given dictionaries are: \\n\",di1,\"\\n\",di2)\n",
    "    print(\"The merged dictionary is: \\n\",di3)"
   ]
  },
  {
   "cell_type": "markdown",
   "id": "6958691e",
   "metadata": {},
   "source": [
    "### Question 4: Write a Python program to convert key-values list to flat dictionary?"
   ]
  },
  {
   "cell_type": "code",
   "execution_count": 25,
   "id": "a6381979",
   "metadata": {},
   "outputs": [
    {
     "name": "stdout",
     "output_type": "stream",
     "text": [
      "The keys are:  [1, 2, 3, 4, 5]\n",
      "The corresponding values are:  ['alpha', 'beta', 'gamma', 'delta', 'theta']\n",
      "The obtained flat dictionary is:  {1: 'alpha', 2: 'beta', 3: 'gamma', 4: 'delta', 5: 'theta'}\n"
     ]
    }
   ],
   "source": [
    "# Given key-values list in the form of a dictionary:-\n",
    "key_val = {'keys':[1,2,3,4,5], 'values':[\"alpha\", \"beta\", \"gamma\", \"delta\", \"theta\"]}\n",
    "\n",
    "di = {}\n",
    "for i in range(len(key_val['keys'])):\n",
    "    di[key_val['keys'][i]] = key_val['values'][i]\n",
    "\n",
    "print(\"The keys are: \", key_val['keys'])\n",
    "print(\"The corresponding values are: \", key_val['values'])\n",
    "print(\"The obtained flat dictionary is: \", di)"
   ]
  },
  {
   "cell_type": "markdown",
   "id": "b45dbb2b",
   "metadata": {},
   "source": [
    "### Question 5: Write a Python program to insertion at the beginning in OrderedDict?"
   ]
  },
  {
   "cell_type": "code",
   "execution_count": 33,
   "id": "5d01b866",
   "metadata": {},
   "outputs": [
    {
     "name": "stdout",
     "output_type": "stream",
     "text": [
      "The given ordered dictionary is: \n",
      " odict_items([(1, 'first'), (2, 'second'), (3, 'third'), (4, 'fourth'), (5, 'fifth')])\n",
      "The dictionary after insertion at the beginning: \n",
      " odict_items([(0, 'BigBang'), (1, 'first'), (2, 'second'), (3, 'third'), (4, 'fourth'), (5, 'fifth')])\n"
     ]
    }
   ],
   "source": [
    "from collections import OrderedDict\n",
    "\n",
    "# Given a OrderedDict example:\n",
    "odi = OrderedDict()\n",
    "odi[1] = 'first'\n",
    "odi[2] = 'second'\n",
    "odi[3] = 'third'\n",
    "odi[4] = 'fourth'\n",
    "odi[5] = 'fifth'\n",
    "\n",
    "print(\"The given ordered dictionary is: \\n\", odi.items())\n",
    "\n",
    "#new item to insert:- \n",
    "key = 0\n",
    "val = 'BigBang'\n",
    "\n",
    "odi1 = OrderedDict() \n",
    "odi1[key] = val\n",
    "\n",
    "for k,v in odi.items():\n",
    "    odi1[k] = v\n",
    "    \n",
    "print(\"The dictionary after insertion at the beginning: \\n\", odi1.items())"
   ]
  },
  {
   "cell_type": "markdown",
   "id": "2e7adae5",
   "metadata": {},
   "source": [
    "### Question 6: Write a Python program to check order of character in string using OrderedDict()?"
   ]
  },
  {
   "cell_type": "code",
   "execution_count": 50,
   "id": "c44a6cf9",
   "metadata": {},
   "outputs": [
    {
     "name": "stdout",
     "output_type": "stream",
     "text": [
      "The string is not ordered according to the pattern\n"
     ]
    }
   ],
   "source": [
    "from collections import OrderedDict\n",
    "# Given string:- \n",
    "st = \"Zimbabwe is a country in South Africa\"\n",
    "# Given pattern:-\n",
    "pat = \"ZwSa\"\n",
    "\n",
    "odi = OrderedDict()\n",
    "\n",
    "for i in range(len(st)):\n",
    "    odi[st[i]] = i\n",
    "\n",
    "pt = 0\n",
    "for i in odi.keys():\n",
    "    if(i == pat[pt]):\n",
    "        pt += 1\n",
    "        if(pt==len(pat)):\n",
    "            break\n",
    "\n",
    "if(pt==len(pat)):\n",
    "    print(\"The string follows the order of character as given in the pattern\")\n",
    "else:\n",
    "    print(\"The string is not ordered according to the pattern\")"
   ]
  },
  {
   "cell_type": "markdown",
   "id": "b652386f",
   "metadata": {},
   "source": [
    "### Question 7: Write a Python program to sort Python Dictionaries by Key or Value?"
   ]
  },
  {
   "cell_type": "code",
   "execution_count": 59,
   "id": "a08311b0",
   "metadata": {},
   "outputs": [
    {
     "name": "stdout",
     "output_type": "stream",
     "text": [
      "Given Dictionary: \n",
      " dict_items([(44, 'alpha'), (66, 'beta'), (2, 'delta'), (3, 'ita'), (0, 'phi'), (43, 'lambda'), (32, 'phi')])\n",
      "Sort the dictionary by 1: keys or 2: Values: 2\n",
      "The sorted Dicionary is: \n",
      " odict_items([(44, 'alpha'), (66, 'beta'), (2, 'delta'), (3, 'ita'), (43, 'lambda'), (0, 'phi'), (32, 'phi')])\n"
     ]
    }
   ],
   "source": [
    "from collections import OrderedDict\n",
    "\n",
    "#Given unordered dictionary:-\n",
    "st = {44:'alpha', 66:'beta', 2:'delta', 3:'ita', 0:'phi', 43:'lambda', 32: 'phi'}\n",
    "\n",
    "print(\"Given Dictionary: \\n\", st.items())\n",
    "\n",
    "sort = OrderedDict()\n",
    "\n",
    "flag = int(input(\"Sort the dictionary by 1: keys or 2: Values: \"))\n",
    "\n",
    "if(flag==1):\n",
    "    s = list(st.keys())\n",
    "    s.sort()\n",
    "    for i in s:\n",
    "        sort[i] = st[i]\n",
    "else: \n",
    "    s = sorted(st.items(), key = lambda kv:(kv[1], kv[0]))\n",
    "    for k, v in s:\n",
    "        sort[k] = v\n",
    "\n",
    "print(\"The sorted Dicionary is: \\n\", sort.items())\n",
    "        "
   ]
  },
  {
   "cell_type": "code",
   "execution_count": null,
   "id": "b37b0fbc",
   "metadata": {},
   "outputs": [],
   "source": []
  }
 ],
 "metadata": {
  "kernelspec": {
   "display_name": "Python 3 (ipykernel)",
   "language": "python",
   "name": "python3"
  },
  "language_info": {
   "codemirror_mode": {
    "name": "ipython",
    "version": 3
   },
   "file_extension": ".py",
   "mimetype": "text/x-python",
   "name": "python",
   "nbconvert_exporter": "python",
   "pygments_lexer": "ipython3",
   "version": "3.9.12"
  }
 },
 "nbformat": 4,
 "nbformat_minor": 5
}
