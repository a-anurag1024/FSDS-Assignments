{
 "cells": [
  {
   "cell_type": "markdown",
   "id": "4d1f591a",
   "metadata": {},
   "source": [
    "### Question 1: Write a Python Program to Find the Factorial of a Number?"
   ]
  },
  {
   "cell_type": "code",
   "execution_count": 4,
   "id": "458ea1f6",
   "metadata": {},
   "outputs": [],
   "source": [
    "# Using recurrsive function concept\n",
    "def factorial(n):\n",
    "    \"\"\"Recurrsive fucntion to return the factorial of the number\"\"\"\n",
    "    if(n==1):\n",
    "        return 1\n",
    "    else:\n",
    "        return n*factorial(n-1)"
   ]
  },
  {
   "cell_type": "code",
   "execution_count": 5,
   "id": "bd5f0df7",
   "metadata": {},
   "outputs": [
    {
     "name": "stdout",
     "output_type": "stream",
     "text": [
      "Enter the number: 6\n",
      "The factorial is:  720\n"
     ]
    }
   ],
   "source": [
    "num = int(input(\"Enter the number: \"))\n",
    "print(\"The factorial is: \", factorial(num))"
   ]
  },
  {
   "cell_type": "markdown",
   "id": "e377e2b9",
   "metadata": {},
   "source": [
    "### Question 2: Write a Python Program to Display the multiplication Table?"
   ]
  },
  {
   "cell_type": "code",
   "execution_count": 9,
   "id": "5975dcbf",
   "metadata": {},
   "outputs": [
    {
     "name": "stdout",
     "output_type": "stream",
     "text": [
      "Enter the number whose table needs to be shown: 9\n",
      "Enter upto which multiplication the table needs to be shown: 10\n",
      "\n",
      " 9 x 1  =  9\n",
      "\n",
      " 9 x 2  =  18\n",
      "\n",
      " 9 x 3  =  27\n",
      "\n",
      " 9 x 4  =  36\n",
      "\n",
      " 9 x 5  =  45\n",
      "\n",
      " 9 x 6  =  54\n",
      "\n",
      " 9 x 7  =  63\n",
      "\n",
      " 9 x 8  =  72\n",
      "\n",
      " 9 x 9  =  81\n",
      "\n",
      " 9 x 10  =  90\n"
     ]
    }
   ],
   "source": [
    "# Again using recurrsive function instead of loops\n",
    "\n",
    "num = int(input(\"Enter the number whose table needs to be shown: \"))\n",
    "upto = int(input(\"Enter upto which multiplication the table needs to be shown: \"))\n",
    "\n",
    "def mtable(num,n):\n",
    "    \"\"\"Recurrsive function to print the multiplication table\"\"\"\n",
    "    if(n==1):\n",
    "        print(\"\\n\",num,\"x\",n,\" = \", num)\n",
    "        return\n",
    "    else : \n",
    "        mtable(num, n-1)\n",
    "        print(\"\\n\",num,\"x\",n,\" = \", num*n)\n",
    "        return\n",
    "    \n",
    "mtable(num,upto)"
   ]
  },
  {
   "cell_type": "markdown",
   "id": "7d5a2bf5",
   "metadata": {},
   "source": [
    "### Question 3: Write a Python Program to Print the Fibonacci sequence?"
   ]
  },
  {
   "cell_type": "code",
   "execution_count": 17,
   "id": "df2763ec",
   "metadata": {},
   "outputs": [
    {
     "name": "stdout",
     "output_type": "stream",
     "text": [
      "Enter the number of Fibonacci terms to be printed(>0): 6\n",
      "1\n",
      "1\n",
      "2\n",
      "3\n",
      "5\n",
      "8\n"
     ]
    }
   ],
   "source": [
    "# Again using the recurrsive function\n",
    "\n",
    "def Fibonacci(m,n,k):\n",
    "    if m==1 and n ==1 :\n",
    "        if(k==1):\n",
    "            print(\"1\")\n",
    "            return\n",
    "        elif (k==2):\n",
    "            print(\"1\"); print(\"1\")\n",
    "            return\n",
    "        else:\n",
    "            print(\"1\"); print(\"1\")\n",
    "            Fibonacci(1,2,k-2)\n",
    "            return\n",
    "    \n",
    "    if(k==1):\n",
    "        print(n)\n",
    "        return\n",
    "    else:\n",
    "        print(n)\n",
    "        Fibonacci(n,m+n,k-1)\n",
    "        \n",
    "            \n",
    "num = int(input(\"Enter the number of Fibonacci terms to be printed(>0): \"))       \n",
    "Fibonacci(1,1,num)"
   ]
  },
  {
   "cell_type": "markdown",
   "id": "b2ad1aa1",
   "metadata": {},
   "source": [
    "### Question 4: Write a Python Program to Check Armstrong Number?"
   ]
  },
  {
   "cell_type": "code",
   "execution_count": 42,
   "id": "fc0aed10",
   "metadata": {},
   "outputs": [
    {
     "name": "stdout",
     "output_type": "stream",
     "text": [
      "Enter the number to be checked: 371\n",
      "The number is a Armstrong Number!!\n"
     ]
    }
   ],
   "source": [
    "num = int(input(\"Enter the number to be checked: \"))\n",
    "\n",
    "i=1\n",
    "k=0\n",
    "\n",
    "while(num/i >= 1):\n",
    "    i = i*10\n",
    "    k=k+1\n",
    "\n",
    "sum = 0\n",
    "upnum = num\n",
    "for j in range(k):\n",
    "    sum += int(upnum/(10**(k-j-1)))**3 \n",
    "    upnum = upnum - int(upnum/(10**(k-j-1)))*10**(k-1-j)\n",
    "    \n",
    "if(sum==num):\n",
    "    print(\"The number is a Armstrong Number!!\")\n",
    "else: \n",
    "    print(\"The number is not a Armstrong Number\")"
   ]
  },
  {
   "cell_type": "markdown",
   "id": "edd35c4f",
   "metadata": {},
   "source": [
    "### Question 5: Write a Python Program to Find Armstrong Number in an Interval?"
   ]
  },
  {
   "cell_type": "code",
   "execution_count": 43,
   "id": "1d707f0f",
   "metadata": {},
   "outputs": [
    {
     "name": "stdout",
     "output_type": "stream",
     "text": [
      "Enter the starting integer: 1\n",
      "Enter the ending integer: 1000\n",
      "The Armstrong numbers in the interval are:\n",
      "1\n",
      "153\n",
      "370\n",
      "371\n",
      "407\n"
     ]
    }
   ],
   "source": [
    "start = int(input(\"Enter the starting integer: \"))\n",
    "end_i = int(input(\"Enter the ending integer: \"))\n",
    "\n",
    "print(\"The Armstrong numbers in the interval are:\")\n",
    "for num in range(start,end_i+1):\n",
    "    i=1\n",
    "    k=0\n",
    "\n",
    "    while(num/i >= 1):\n",
    "        i = i*10\n",
    "        k=k+1\n",
    "\n",
    "    sum = 0\n",
    "    upnum = num\n",
    "    for j in range(k):\n",
    "        sum += int(upnum/(10**(k-j-1)))**3 \n",
    "        upnum = upnum - int(upnum/(10**(k-j-1)))*10**(k-1-j)\n",
    "    \n",
    "\n",
    "    if(sum==num):\n",
    "        print(num)\n",
    "    "
   ]
  },
  {
   "cell_type": "markdown",
   "id": "4ee9b249",
   "metadata": {},
   "source": [
    "### Question 6: Write a Python Program to Find the Sum of Natural Numbers?"
   ]
  },
  {
   "cell_type": "code",
   "execution_count": 47,
   "id": "d80e4bac",
   "metadata": {},
   "outputs": [
    {
     "name": "stdout",
     "output_type": "stream",
     "text": [
      "Enter the number upto which sum is to be calculated: 10\n",
      "Sum is  55\n"
     ]
    }
   ],
   "source": [
    "num = int(input(\"Enter the number upto which sum is to be calculated: \"))\n",
    "\n",
    "def nat_sum(n):\n",
    "    if(n==1):\n",
    "        return 1\n",
    "    else:\n",
    "        return n+nat_sum(n-1)\n",
    "\n",
    "print(\"Sum is \", nat_sum(num))"
   ]
  },
  {
   "cell_type": "code",
   "execution_count": null,
   "id": "ed84cda0",
   "metadata": {},
   "outputs": [],
   "source": []
  }
 ],
 "metadata": {
  "kernelspec": {
   "display_name": "Python 3 (ipykernel)",
   "language": "python",
   "name": "python3"
  },
  "language_info": {
   "codemirror_mode": {
    "name": "ipython",
    "version": 3
   },
   "file_extension": ".py",
   "mimetype": "text/x-python",
   "name": "python",
   "nbconvert_exporter": "python",
   "pygments_lexer": "ipython3",
   "version": "3.9.12"
  }
 },
 "nbformat": 4,
 "nbformat_minor": 5
}
