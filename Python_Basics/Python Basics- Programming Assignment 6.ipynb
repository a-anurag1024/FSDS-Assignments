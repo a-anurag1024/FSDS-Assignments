{
 "cells": [
  {
   "cell_type": "markdown",
   "id": "69bff964",
   "metadata": {},
   "source": [
    "### Question 1- Write a Python Program to Display Fibonacci Sequence Using Recursion?"
   ]
  },
  {
   "cell_type": "code",
   "execution_count": 4,
   "id": "d817ec76",
   "metadata": {},
   "outputs": [
    {
     "name": "stdout",
     "output_type": "stream",
     "text": [
      "Enter the number of Fibonacci terms to be printed(>0): 6\n",
      "1\n",
      "1\n",
      "2\n",
      "3\n",
      "5\n",
      "8\n"
     ]
    }
   ],
   "source": [
    "def Fibonacci(m,n,k):\n",
    "    if m==1 and n ==1 :\n",
    "        if(k==1):\n",
    "            print(\"1\")\n",
    "            return\n",
    "        elif (k==2):\n",
    "            print(\"1\"); print(\"1\")\n",
    "            return\n",
    "        else:\n",
    "            print(\"1\"); print(\"1\")\n",
    "            Fibonacci(1,2,k-2)\n",
    "            return\n",
    "    \n",
    "    if(k==1):\n",
    "        print(n)\n",
    "        return\n",
    "    else:\n",
    "        print(n)\n",
    "        Fibonacci(n,m+n,k-1)\n",
    "        \n",
    "            \n",
    "num = int(input(\"Enter the number of Fibonacci terms to be printed(>0): \"))       \n",
    "Fibonacci(1,1,num)"
   ]
  },
  {
   "cell_type": "markdown",
   "id": "f86d5b97",
   "metadata": {},
   "source": [
    "### Question 2: Write a Python Program to Find Factorial of Number Using Recursion?"
   ]
  },
  {
   "cell_type": "code",
   "execution_count": 7,
   "id": "c799d478",
   "metadata": {},
   "outputs": [
    {
     "name": "stdout",
     "output_type": "stream",
     "text": [
      "Enter the number: 4\n",
      "The factorial is:  24\n"
     ]
    }
   ],
   "source": [
    "def factorial(n):\n",
    "    \"\"\"Recurrsive fucntion to return the factorial of the number\"\"\"\n",
    "    if(n==1):\n",
    "        return 1\n",
    "    else:\n",
    "        return n*factorial(n-1)\n",
    "\n",
    "num = int(input(\"Enter the number: \"))\n",
    "print(\"The factorial is: \", factorial(num))"
   ]
  },
  {
   "cell_type": "markdown",
   "id": "064da0a2",
   "metadata": {},
   "source": [
    "### Question 3: Write a Python Program to calculate your Body Mass Index?"
   ]
  },
  {
   "cell_type": "code",
   "execution_count": 12,
   "id": "de0855d3",
   "metadata": {},
   "outputs": [
    {
     "name": "stdout",
     "output_type": "stream",
     "text": [
      "Enter weight (in kg): 65\n",
      "Enter height (in meters): 1.68\n",
      "The Body Mass Index is  23.030045351473927\n"
     ]
    }
   ],
   "source": [
    "kg = float(input(\"Enter weight (in kg): \"))\n",
    "m  = float(input(\"Enter height (in meters): \"))\n",
    "\n",
    "bmi = kg/(m**2)\n",
    "print(\"The Body Mass Index is \", bmi)"
   ]
  },
  {
   "cell_type": "markdown",
   "id": "a5c35869",
   "metadata": {},
   "source": [
    "### Question 4: Write a Python Program to calculate the natural logarithm of any number?"
   ]
  },
  {
   "cell_type": "code",
   "execution_count": 17,
   "id": "f49b1707",
   "metadata": {},
   "outputs": [
    {
     "name": "stdout",
     "output_type": "stream",
     "text": [
      "Enter the number whose log needs to be calculated: 10\n",
      "The natural log is:  2.302585092994046\n"
     ]
    }
   ],
   "source": [
    "# need to import math package for the log function\n",
    "import math\n",
    "\n",
    "n = float(input(\"Enter the number whose log needs to be calculated: \"))\n",
    "print(\"The natural log is: \", math.log(n))"
   ]
  },
  {
   "cell_type": "markdown",
   "id": "5011c85c",
   "metadata": {},
   "source": [
    "### Question 5: Write a Python Program for cube sum of first n natural numbers?"
   ]
  },
  {
   "cell_type": "code",
   "execution_count": 22,
   "id": "15a3b7f8",
   "metadata": {},
   "outputs": [
    {
     "name": "stdout",
     "output_type": "stream",
     "text": [
      "Enter the number upto which cube sum needs to be calculated: 5\n",
      "The result is  225\n"
     ]
    }
   ],
   "source": [
    "n = int(input(\"Enter the number upto which cube sum needs to be calculated: \"))\n",
    "sum =0\n",
    "for i in range(1,n+1):\n",
    "    sum += i**3\n",
    "print(\"The result is \", sum)"
   ]
  },
  {
   "cell_type": "code",
   "execution_count": null,
   "id": "db5704fe",
   "metadata": {},
   "outputs": [],
   "source": []
  }
 ],
 "metadata": {
  "kernelspec": {
   "display_name": "Python 3 (ipykernel)",
   "language": "python",
   "name": "python3"
  },
  "language_info": {
   "codemirror_mode": {
    "name": "ipython",
    "version": 3
   },
   "file_extension": ".py",
   "mimetype": "text/x-python",
   "name": "python",
   "nbconvert_exporter": "python",
   "pygments_lexer": "ipython3",
   "version": "3.9.12"
  }
 },
 "nbformat": 4,
 "nbformat_minor": 5
}
