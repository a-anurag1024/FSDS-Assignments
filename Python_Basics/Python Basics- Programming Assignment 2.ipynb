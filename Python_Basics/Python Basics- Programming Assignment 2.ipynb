{
 "cells": [
  {
   "cell_type": "markdown",
   "id": "f32f9408",
   "metadata": {},
   "source": [
    "### Question 1: Write a Python program to convert kilometers to miles?"
   ]
  },
  {
   "cell_type": "code",
   "execution_count": 2,
   "id": "94ce87f1",
   "metadata": {},
   "outputs": [
    {
     "name": "stdout",
     "output_type": "stream",
     "text": [
      "Enter the distance in Kilometers: 20\n",
      "The distance in miles:  12.42742\n"
     ]
    }
   ],
   "source": [
    "km = float(input(\"Enter the distance in Kilometers: \"))\n",
    "mi = km*0.621371\n",
    "print(\"The distance in miles: \", mi)"
   ]
  },
  {
   "cell_type": "markdown",
   "id": "3c0d5e78",
   "metadata": {},
   "source": [
    "### Question 2: Write a Python program to convert Celsius to Fahrenheit?"
   ]
  },
  {
   "cell_type": "code",
   "execution_count": 6,
   "id": "f45b5a29",
   "metadata": {},
   "outputs": [
    {
     "name": "stdout",
     "output_type": "stream",
     "text": [
      "Enter the temperature in celsius: -40\n",
      "The temperature in Fahrenheit is:  -40.0\n"
     ]
    }
   ],
   "source": [
    "cel = float(input(\"Enter the temperature in celsius: \"))\n",
    "fah = cel*(9/5) + 32\n",
    "print(\"The temperature in Fahrenheit is: \", fah)"
   ]
  },
  {
   "cell_type": "markdown",
   "id": "9767e06a",
   "metadata": {},
   "source": [
    "### Question 3: Write a Python program to display calendar?"
   ]
  },
  {
   "cell_type": "code",
   "execution_count": 19,
   "id": "ca356435",
   "metadata": {},
   "outputs": [
    {
     "name": "stdout",
     "output_type": "stream",
     "text": [
      "Enter the Year: 2022\n",
      "Enter the month number(1-12): 6\n",
      "\n",
      "\n",
      "      June 2022\n",
      "Mo Tu We Th Fr Sa Su\n",
      "       1  2  3  4  5\n",
      " 6  7  8  9 10 11 12\n",
      "13 14 15 16 17 18 19\n",
      "20 21 22 23 24 25 26\n",
      "27 28 29 30\n",
      "\n"
     ]
    }
   ],
   "source": [
    "# using the python library calendar to show monthly calendar\n",
    "import calendar\n",
    "\n",
    "y = int(input(\"Enter the Year: \"))\n",
    "m = int(input(\"Enter the month number(1-12): \"))\n",
    "\n",
    "print(\"\\n\\n\", calendar.month(y,m))"
   ]
  },
  {
   "cell_type": "markdown",
   "id": "0dcdc672",
   "metadata": {},
   "source": [
    "### Question 4: Write a Python program to solve quadratic equation?"
   ]
  },
  {
   "cell_type": "code",
   "execution_count": 15,
   "id": "cf9ec2f4",
   "metadata": {},
   "outputs": [
    {
     "name": "stdout",
     "output_type": "stream",
     "text": [
      "Quardratic Equation in the form a*x^2 + b*x + c = 0 \n",
      "Enter the value of a: 1\n",
      "Enter the value of b: 2\n",
      "Enter the value of c: 1\n",
      "The roots are:  -1.0 -1.0\n"
     ]
    }
   ],
   "source": [
    "print(\"Quardratic Equation in the form a*x^2 + b*x + c = 0 \")\n",
    "a = float(input(\"Enter the value of a: \"))\n",
    "b = float(input(\"Enter the value of b: \"))\n",
    "c = float(input(\"Enter the value of c: \"))\n",
    "\n",
    "root1 = (-b + (b**2-4*a*c)**0.5)/(2*a)\n",
    "root2 = (-b - (b**2-4*a*c)**0.5)/(2*a)\n",
    "\n",
    "print(\"The roots are: \", root1, root2)"
   ]
  },
  {
   "cell_type": "markdown",
   "id": "e9857503",
   "metadata": {},
   "source": [
    "### Question 5: Write a Python program to swap two variables without temp variable?"
   ]
  },
  {
   "cell_type": "code",
   "execution_count": 16,
   "id": "c240ad05",
   "metadata": {},
   "outputs": [
    {
     "name": "stdout",
     "output_type": "stream",
     "text": [
      "Enter value of a: 46\n",
      "Enter value of b: 64\n",
      "Values after swapping: a=  64 ; b =  46\n"
     ]
    }
   ],
   "source": [
    "a = int(input(\"Enter value of a: \"))\n",
    "b = int(input(\"Enter value of b: \"))\n",
    "\n",
    "#swapping without using an additional variable\n",
    "\n",
    "a = a+b\n",
    "b = a-b\n",
    "a = a - b\n",
    "\n",
    "print(\"Values after swapping: a= \", a, \"; b = \", b)"
   ]
  },
  {
   "cell_type": "code",
   "execution_count": null,
   "id": "c5f928d5",
   "metadata": {},
   "outputs": [],
   "source": []
  }
 ],
 "metadata": {
  "kernelspec": {
   "display_name": "Python 3 (ipykernel)",
   "language": "python",
   "name": "python3"
  },
  "language_info": {
   "codemirror_mode": {
    "name": "ipython",
    "version": 3
   },
   "file_extension": ".py",
   "mimetype": "text/x-python",
   "name": "python",
   "nbconvert_exporter": "python",
   "pygments_lexer": "ipython3",
   "version": "3.9.12"
  }
 },
 "nbformat": 4,
 "nbformat_minor": 5
}
