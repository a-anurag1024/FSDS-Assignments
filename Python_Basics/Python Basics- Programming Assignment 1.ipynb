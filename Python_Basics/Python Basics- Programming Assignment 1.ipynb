{
 "cells": [
  {
   "cell_type": "markdown",
   "id": "d97d3eb7",
   "metadata": {},
   "source": [
    "### Question 1: Write a python program to print \"Hello python\"?"
   ]
  },
  {
   "cell_type": "code",
   "execution_count": 3,
   "id": "19828cca",
   "metadata": {},
   "outputs": [
    {
     "name": "stdout",
     "output_type": "stream",
     "text": [
      "Hello Python\n"
     ]
    }
   ],
   "source": [
    "print(\"Hello Python\")"
   ]
  },
  {
   "cell_type": "markdown",
   "id": "2c62e4fe",
   "metadata": {},
   "source": [
    "### Question 2: Write a Python program to do arithmetical operations addition and division.?"
   ]
  },
  {
   "cell_type": "code",
   "execution_count": 6,
   "id": "0d5da9a5",
   "metadata": {},
   "outputs": [
    {
     "name": "stdout",
     "output_type": "stream",
     "text": [
      "enter first number: 2\n",
      "enter second number: 3\n",
      "Addition is: 5\n"
     ]
    }
   ],
   "source": [
    "# For addition:-\n",
    "a = input(\"enter first number: \")\n",
    "b = input(\"enter second number: \")\n",
    "print(\"Addition is:\", int(a)+int(b))"
   ]
  },
  {
   "cell_type": "code",
   "execution_count": 9,
   "id": "11d77c46",
   "metadata": {},
   "outputs": [
    {
     "name": "stdout",
     "output_type": "stream",
     "text": [
      "enter numerator: 6\n",
      "enter denominator: 2\n",
      "Division is: 3.0\n"
     ]
    }
   ],
   "source": [
    "# For division:-\n",
    "a = input(\"enter numerator: \")\n",
    "b = input(\"enter denominator: \")\n",
    "print(\"Division is:\", int(a)/int(b))"
   ]
  },
  {
   "cell_type": "markdown",
   "id": "e3f32ea4",
   "metadata": {},
   "source": [
    "### Question 3: Write a Python program to find the area of a triangle?"
   ]
  },
  {
   "cell_type": "code",
   "execution_count": 14,
   "id": "f796516f",
   "metadata": {},
   "outputs": [
    {
     "name": "stdout",
     "output_type": "stream",
     "text": [
      "Enter of length of side a: 3\n",
      "Enter of length of side b: 4\n",
      "Enter of length of side c: 5\n",
      "Area:  6.0\n"
     ]
    }
   ],
   "source": [
    "# using Heron's formula, Requires the length of all the sides\n",
    "\n",
    "a = int(input(\"Enter length of side a: \"))\n",
    "b = int(input(\"Enter length of side b: \"))\n",
    "c = int(input(\"Enter length of side c: \"))\n",
    "s = (a+b+c)/2\n",
    "area = (s*(s-a)*(s-b)*(s-c))**0.5\n",
    "print(\"Area: \", area)"
   ]
  },
  {
   "cell_type": "markdown",
   "id": "20daf79a",
   "metadata": {},
   "source": [
    "### Question 4: Write a Python program to swap two variables?"
   ]
  },
  {
   "cell_type": "code",
   "execution_count": 18,
   "id": "6db7024a",
   "metadata": {},
   "outputs": [
    {
     "name": "stdout",
     "output_type": "stream",
     "text": [
      "Enter value of a: 24\n",
      "Enter value of b: 2\n",
      "Values after swapping: a=  2 ; b =  24\n"
     ]
    }
   ],
   "source": [
    "a = int(input(\"Enter value of a: \"))\n",
    "b = int(input(\"Enter value of b: \"))\n",
    "\n",
    "#swapping without using an additional variable\n",
    "\n",
    "a = a+b\n",
    "b = a-b\n",
    "a = a - b\n",
    "\n",
    "print(\"Values after swapping: a= \", a, \"; b = \", b)"
   ]
  },
  {
   "cell_type": "markdown",
   "id": "42aaf783",
   "metadata": {},
   "source": [
    "### Question 5: Write a Python program to generate a random number?"
   ]
  },
  {
   "cell_type": "code",
   "execution_count": 35,
   "id": "3c1cd671",
   "metadata": {},
   "outputs": [
    {
     "name": "stdout",
     "output_type": "stream",
     "text": [
      "A random number between (0,1) is:  0.7805877408644865\n"
     ]
    }
   ],
   "source": [
    "# Need to use the Python library Random\n",
    "import random\n",
    "\n",
    "print(\"A random number between (0,1) is: \", random.random())"
   ]
  },
  {
   "cell_type": "code",
   "execution_count": null,
   "id": "b0569864",
   "metadata": {},
   "outputs": [],
   "source": []
  },
  {
   "cell_type": "code",
   "execution_count": null,
   "id": "19f2b8f6",
   "metadata": {},
   "outputs": [],
   "source": []
  }
 ],
 "metadata": {
  "kernelspec": {
   "display_name": "Python 3 (ipykernel)",
   "language": "python",
   "name": "python3"
  },
  "language_info": {
   "codemirror_mode": {
    "name": "ipython",
    "version": 3
   },
   "file_extension": ".py",
   "mimetype": "text/x-python",
   "name": "python",
   "nbconvert_exporter": "python",
   "pygments_lexer": "ipython3",
   "version": "3.9.12"
  }
 },
 "nbformat": 4,
 "nbformat_minor": 5
}
