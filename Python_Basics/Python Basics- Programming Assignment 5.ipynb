{
 "cells": [
  {
   "cell_type": "markdown",
   "id": "19adb94c",
   "metadata": {},
   "source": [
    "### Question 1: Write a Python Program to Find LCM?"
   ]
  },
  {
   "cell_type": "code",
   "execution_count": 7,
   "id": "06fc21d8",
   "metadata": {},
   "outputs": [
    {
     "name": "stdout",
     "output_type": "stream",
     "text": [
      "Enter first number: 6\n",
      "Enter second number: 15\n",
      "The LCM of the two numbers is:  30\n"
     ]
    }
   ],
   "source": [
    "num1 = int(input(\"Enter first number: \"))\n",
    "num2 = int(input(\"Enter second number: \"))\n",
    "\n",
    "gre = num1 if num1>=num2 else num2\n",
    "\n",
    "while(True):\n",
    "    if(gre%num1==0 and gre%num2==0):\n",
    "        break;\n",
    "    else:\n",
    "        gre = gre+1\n",
    "\n",
    "print(\"The LCM of the two numbers is: \", gre)"
   ]
  },
  {
   "cell_type": "markdown",
   "id": "0d738ba9",
   "metadata": {},
   "source": [
    "### Question 2: Write a Python Program to Find HCF?"
   ]
  },
  {
   "cell_type": "code",
   "execution_count": 14,
   "id": "9fb06ce1",
   "metadata": {},
   "outputs": [
    {
     "name": "stdout",
     "output_type": "stream",
     "text": [
      "Enter first number: 9\n",
      "Enter second number: 6\n",
      "The HCF of the two numbers is:  3\n"
     ]
    }
   ],
   "source": [
    "num1 = int(input(\"Enter first number: \"))\n",
    "num2 = int(input(\"Enter second number: \"))\n",
    "\n",
    "sma = num1 if num1<=num2 else num2\n",
    "\n",
    "for i in range(sma, 0, -1):\n",
    "    if(num1%i==0 and num2%i==0):\n",
    "        break;\n",
    "else:\n",
    "    i = 1;\n",
    "\n",
    "print(\"The HCF of the two numbers is: \", i)"
   ]
  },
  {
   "cell_type": "markdown",
   "id": "cb4a566b",
   "metadata": {},
   "source": [
    "### Question 3 : Write a Python Program to Convert Decimal to Binary, Octal and Hexadecimal?"
   ]
  },
  {
   "cell_type": "code",
   "execution_count": 15,
   "id": "2dd2b7ca",
   "metadata": {},
   "outputs": [
    {
     "name": "stdout",
     "output_type": "stream",
     "text": [
      "Enter the number(integer) in Decimal: 180\n",
      "The number in Binary is:  10110100\n",
      "The number in octal is:  264\n",
      "The number in hexadecimal is:  B4\n"
     ]
    }
   ],
   "source": [
    "num = int(input(\"Enter the number(integer) in Decimal: \"))\n",
    "\n",
    "# To Binary:-\n",
    "bina = \"\"\n",
    "upnum = num\n",
    "while(upnum!=0):\n",
    "    bina = bina + str(upnum%2)\n",
    "    upnum = int(upnum/2)\n",
    "    \n",
    "\n",
    "print(\"The number in Binary is: \", bina[::-1])\n",
    "\n",
    "# To Octal:-\n",
    "octa = \"\"\n",
    "upnum = num\n",
    "while(upnum!=0):\n",
    "    octa = octa + str(upnum%8)\n",
    "    upnum = int(upnum/8)\n",
    "print(\"The number in octal is: \", octa[::-1])\n",
    "\n",
    "# To Hexadecimal:-\n",
    "def hexstr(n):\n",
    "    if n<=9:\n",
    "        return str(n)\n",
    "    else:\n",
    "        return chr(65+n-10)\n",
    "hexa = \"\"\n",
    "upnum = num\n",
    "while(upnum!=0):\n",
    "    hexa = hexa + hexstr(upnum%16)\n",
    "    upnum = int(upnum/16)\n",
    "print(\"The number in hexadecimal is: \", hexa[::-1])"
   ]
  },
  {
   "cell_type": "markdown",
   "id": "43501d38",
   "metadata": {},
   "source": [
    "### Question 4:- Write a Python Program To Find ASCII value of a character?"
   ]
  },
  {
   "cell_type": "code",
   "execution_count": 16,
   "id": "642cc320",
   "metadata": {},
   "outputs": [
    {
     "name": "stdout",
     "output_type": "stream",
     "text": [
      "Enter the character: A\n",
      "The ASCII value of the character is:  65\n"
     ]
    }
   ],
   "source": [
    "# The inbuilt function ord() can be used for this purpose\n",
    "char = input(\"Enter the character: \")\n",
    "print(\"The ASCII value of the character is: \", ord(char))"
   ]
  },
  {
   "cell_type": "markdown",
   "id": "00b9ce13",
   "metadata": {},
   "source": [
    "### Question 5:- Write a Python Program to Make a Simple Calculator with 4 basic mathematical operations?"
   ]
  },
  {
   "cell_type": "code",
   "execution_count": 19,
   "id": "4b54c217",
   "metadata": {},
   "outputs": [
    {
     "name": "stdout",
     "output_type": "stream",
     "text": [
      "Specify which operation to be done (1:Addition; 2:Multiplication; 3:Substraction; 4:Division;): 4\n",
      "The operation that needs to be done is: \n",
      "a/b\n",
      "Enter the value of a: 6\n",
      "Enter the value of b: 4\n",
      "Result:  1.5\n"
     ]
    }
   ],
   "source": [
    "op = int(input(\"Specify which operation to be done (1:Addition; 2:Multiplication; 3:Substraction; 4:Division;): \"))\n",
    "\n",
    "print(\"The operation that needs to be done is: \")\n",
    "if(op==1):\n",
    "    print(\"a+b\")\n",
    "elif(op==2):\n",
    "    print(\"a*b\")\n",
    "elif(op==3):\n",
    "    print(\"a-b\")\n",
    "else:\n",
    "    print(\"a/b\")\n",
    "\n",
    "a = float(input(\"Enter the value of a: \"))\n",
    "b = float(input(\"Enter the value of b: \"))\n",
    "\n",
    "if(op==1):\n",
    "    print(\"Result: \", a+b)\n",
    "elif(op==2):\n",
    "    print(\"Result: \", a*b)\n",
    "elif(op==3):\n",
    "    print(\"Result: \", a-b)\n",
    "else:\n",
    "    print(\"Result: \", a/b)"
   ]
  },
  {
   "cell_type": "code",
   "execution_count": null,
   "id": "6ac0e799",
   "metadata": {},
   "outputs": [],
   "source": []
  }
 ],
 "metadata": {
  "kernelspec": {
   "display_name": "Python 3 (ipykernel)",
   "language": "python",
   "name": "python3"
  },
  "language_info": {
   "codemirror_mode": {
    "name": "ipython",
    "version": 3
   },
   "file_extension": ".py",
   "mimetype": "text/x-python",
   "name": "python",
   "nbconvert_exporter": "python",
   "pygments_lexer": "ipython3",
   "version": "3.9.12"
  }
 },
 "nbformat": 4,
 "nbformat_minor": 5
}
