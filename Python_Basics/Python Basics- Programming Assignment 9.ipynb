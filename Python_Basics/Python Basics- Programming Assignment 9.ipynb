{
 "cells": [
  {
   "cell_type": "markdown",
   "id": "1f5b2787",
   "metadata": {},
   "source": [
    "### Question 1: Write a Python program to check if the given number is a Disarium Number?"
   ]
  },
  {
   "cell_type": "code",
   "execution_count": 10,
   "id": "9a797d8c",
   "metadata": {},
   "outputs": [
    {
     "name": "stdout",
     "output_type": "stream",
     "text": [
      "Enter the number to be checked: 518\n",
      "The number is a Disarium number !!\n"
     ]
    }
   ],
   "source": [
    "num = int(input(\"Enter the number to be checked: \"))\n",
    "\n",
    "digits = []\n",
    "num1 = num\n",
    "while(num1/10!=0):\n",
    "    digits.append(num1%10)\n",
    "    num1 = int(num1/10)\n",
    "digits = digits[::-1]\n",
    "sum = 0\n",
    "for i in range(len(digits)):\n",
    "    sum+= digits[i]**(i+1)\n",
    "\n",
    "if(sum==num):\n",
    "    print(\"The number is a Disarium number !!\")\n",
    "else:\n",
    "    print(\"The number is not a Disarium number\")"
   ]
  },
  {
   "cell_type": "markdown",
   "id": "ed547395",
   "metadata": {},
   "source": [
    "### Question 2: Write a Python program to print all disarium numbers between 1 to 100?"
   ]
  },
  {
   "cell_type": "code",
   "execution_count": 11,
   "id": "e8fca7aa",
   "metadata": {},
   "outputs": [
    {
     "name": "stdout",
     "output_type": "stream",
     "text": [
      "All the Disarium numbers between 1-100 are:  [1, 2, 3, 4, 5, 6, 7, 8, 9, 89]\n"
     ]
    }
   ],
   "source": [
    "D_num = [];\n",
    "for num in range(1,101):\n",
    "    digits = []\n",
    "    num1 = num\n",
    "    while(num1/10!=0):\n",
    "        digits.append(num1%10)\n",
    "        num1 = int(num1/10)\n",
    "    digits = digits[::-1]\n",
    "    sum = 0\n",
    "    for i in range(len(digits)):\n",
    "        sum+= digits[i]**(i+1)\n",
    "\n",
    "    if(sum==num):\n",
    "        D_num.append(num)\n",
    "print(\"All the Disarium numbers between 1-100 are: \", D_num)"
   ]
  },
  {
   "cell_type": "markdown",
   "id": "6d550c40",
   "metadata": {},
   "source": [
    "### Question 3: Write a Python program to check if the given number is Happy Number?"
   ]
  },
  {
   "cell_type": "code",
   "execution_count": 4,
   "id": "cb65e2de",
   "metadata": {},
   "outputs": [
    {
     "name": "stdout",
     "output_type": "stream",
     "text": [
      "Enter the number to check: 7\n",
      "The supplied number is a happy number :) !!\n"
     ]
    }
   ],
   "source": [
    "def digits(num):\n",
    "    digit = []\n",
    "    num1 = num\n",
    "    while(num1/10!=0):\n",
    "        digit.append(num1%10)\n",
    "        num1 = int(num1/10)\n",
    "    digit = digit[::-1]\n",
    "    return digit\n",
    "\n",
    "num = int(input(\"Enter the number to check: \"))\n",
    "dig = digits(num)\n",
    "flag = 1\n",
    "while(flag):\n",
    "    num = 0\n",
    "    for i in dig:\n",
    "        num+= i**2\n",
    "    dig = digits(num)\n",
    "    if(num < 6):\n",
    "        # flag taken such because the numbers 2,3,4,5 gives a recurring loop without going to 1\n",
    "        flag = 0\n",
    "\n",
    "if(dig[0]==1):\n",
    "    print(\"The supplied number is a happy number :) !!\")\n",
    "else:\n",
    "    print(\"The supplied number is not a happy number\")"
   ]
  },
  {
   "cell_type": "markdown",
   "id": "3ea0d3b6",
   "metadata": {},
   "source": [
    "### Question 4: Write a Python program to print all happy numbers between 1 and 100?"
   ]
  },
  {
   "cell_type": "code",
   "execution_count": 2,
   "id": "4e7da1bb",
   "metadata": {},
   "outputs": [],
   "source": [
    "def digits(num):\n",
    "    digit = []\n",
    "    num1 = num\n",
    "    while(num1/10!=0):\n",
    "        digit.append(num1%10)\n",
    "        num1 = int(num1/10)\n",
    "    digit = digit[::-1]\n",
    "    return digit"
   ]
  },
  {
   "cell_type": "code",
   "execution_count": 5,
   "id": "a3907066",
   "metadata": {},
   "outputs": [
    {
     "name": "stdout",
     "output_type": "stream",
     "text": [
      "The Happy numbers between 1 and 100 are:  [1, 7, 10, 13, 19, 23, 28, 31, 32, 44, 49, 68, 70, 79, 82, 86, 91, 94, 97, 100]\n"
     ]
    }
   ],
   "source": [
    "hn = []\n",
    "for num in range(1,101):\n",
    "    dig = digits(num)\n",
    "    flag = 1\n",
    "    while(flag):\n",
    "        num1 = 0\n",
    "        for i in dig:\n",
    "            num1+= i**2\n",
    "        dig = digits(num1)\n",
    "        if(num1 < 6):\n",
    "            # flag taken such because the numbers 2,3,4,5 gives a recurring loop without going to 1\n",
    "            flag = 0\n",
    "\n",
    "    if(dig[0]==1):\n",
    "        hn.append(num)\n",
    "print(\"The Happy numbers between 1 and 100 are: \", hn)"
   ]
  },
  {
   "cell_type": "markdown",
   "id": "45707a5a",
   "metadata": {},
   "source": [
    "### Question 5: Write a Python program to determine whether the given number is a Harshad Number?"
   ]
  },
  {
   "cell_type": "code",
   "execution_count": 6,
   "id": "293cbc80",
   "metadata": {},
   "outputs": [],
   "source": [
    "def digits(num):\n",
    "    digit = []\n",
    "    num1 = num\n",
    "    while(num1/10!=0):\n",
    "        digit.append(num1%10)\n",
    "        num1 = int(num1/10)\n",
    "    digit = digit[::-1]\n",
    "    return digit"
   ]
  },
  {
   "cell_type": "code",
   "execution_count": 14,
   "id": "a1e1d693",
   "metadata": {},
   "outputs": [
    {
     "name": "stdout",
     "output_type": "stream",
     "text": [
      "Enter the number to be checked: 12\n",
      "The supplied number is a Harshad Number !!\n"
     ]
    }
   ],
   "source": [
    "num = int(input(\"Enter the number to be checked: \"))\n",
    "\n",
    "l = digits(num)\n",
    "tot = 0\n",
    "for i in l:\n",
    "    tot = tot+i\n",
    "if(num%tot==0):\n",
    "    print(\"The supplied number is a Harshad Number !!\")\n",
    "else:\n",
    "    print(\"The supplied number is NOT a Harshad Number\")"
   ]
  },
  {
   "cell_type": "markdown",
   "id": "5ccde49b",
   "metadata": {},
   "source": [
    "### Question 6: Write a Python program to print all pronic numbers between 1 and 100?"
   ]
  },
  {
   "cell_type": "code",
   "execution_count": 15,
   "id": "589745ea",
   "metadata": {},
   "outputs": [],
   "source": [
    "def is_pronic(n):\n",
    "    for i in range(int((n+1)/2)):\n",
    "        if((i+1)*(i+2)==n):\n",
    "            return True\n",
    "    else:\n",
    "        return False"
   ]
  },
  {
   "cell_type": "code",
   "execution_count": 19,
   "id": "d164a903",
   "metadata": {},
   "outputs": [
    {
     "name": "stdout",
     "output_type": "stream",
     "text": [
      "The Pronic numbers between 1 and 100 are:  [2, 6, 12, 20, 30, 42, 56, 72, 90]\n"
     ]
    }
   ],
   "source": [
    "pro = []\n",
    "for i in range(1,101):\n",
    "    if(is_pronic(i)):\n",
    "        pro.append(i)\n",
    "print(\"The Pronic numbers between 1 and 100 are: \", pro)"
   ]
  },
  {
   "cell_type": "code",
   "execution_count": null,
   "id": "07d1e5cd",
   "metadata": {},
   "outputs": [],
   "source": []
  }
 ],
 "metadata": {
  "kernelspec": {
   "display_name": "Python 3 (ipykernel)",
   "language": "python",
   "name": "python3"
  },
  "language_info": {
   "codemirror_mode": {
    "name": "ipython",
    "version": 3
   },
   "file_extension": ".py",
   "mimetype": "text/x-python",
   "name": "python",
   "nbconvert_exporter": "python",
   "pygments_lexer": "ipython3",
   "version": "3.9.12"
  }
 },
 "nbformat": 4,
 "nbformat_minor": 5
}
