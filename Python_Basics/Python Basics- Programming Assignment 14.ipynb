{
 "cells": [
  {
   "cell_type": "markdown",
   "id": "4e94f633",
   "metadata": {},
   "source": [
    "# Question 1:\n",
    "Define a class with a generator which can iterate the numbers, which are divisible by\n",
    "7, between a given range 0 and n."
   ]
  },
  {
   "cell_type": "code",
   "execution_count": 23,
   "id": "c4b036da",
   "metadata": {},
   "outputs": [],
   "source": [
    "class div_seven:\n",
    "    def __init__(self,n):\n",
    "        self.n = int(n)\n",
    "        \n",
    "    def gen_nums(self):\n",
    "        \"\"\"Generator function to generate multiples of 7 in the range [0, f.n]\"\"\"\n",
    "        for i in range(self.n+1):\n",
    "            if (i%7==0):\n",
    "                yield i"
   ]
  },
  {
   "cell_type": "code",
   "execution_count": 24,
   "id": "10a3de8d",
   "metadata": {},
   "outputs": [
    {
     "name": "stdout",
     "output_type": "stream",
     "text": [
      "0\n",
      "7\n",
      "14\n",
      "21\n"
     ]
    }
   ],
   "source": [
    "f = div_seven(21)\n",
    "\n",
    "for i in f.gen_nums():\n",
    "    print(i)"
   ]
  },
  {
   "cell_type": "markdown",
   "id": "6d35dfa8",
   "metadata": {},
   "source": [
    "# Question 2:\n",
    "Write a program to compute the frequency of the words from the input. The output\n",
    "should output after sorting the key alphanumerically.\n",
    "Suppose the following input is supplied to the program:\n",
    "\n",
    "New to Python or choosing between Python 2 and Python 3? Read Python 2 or\n",
    "Python 3.\n",
    "\n",
    "Then, the output should be:\n",
    "\n",
    "2:2\n",
    "\n",
    "3.:1\n",
    "\n",
    "3?:1\n",
    "\n",
    "New:1\n",
    "\n",
    "Python:5\n",
    "\n",
    "Read:1\n",
    "\n",
    "and:1\n",
    "\n",
    "between:1\n",
    "\n",
    "choosing:1\n",
    "\n",
    "or:2\n",
    "\n",
    "to:1"
   ]
  },
  {
   "cell_type": "code",
   "execution_count": 33,
   "id": "c342f5dc",
   "metadata": {},
   "outputs": [
    {
     "name": "stdout",
     "output_type": "stream",
     "text": [
      "Enter the string:- New to Python or choosing between Python 2 and Python 3? Read Python 2 or Python 3\n",
      "The required output is:\n",
      "\n",
      "2 : 2\n",
      "3 : 1\n",
      "3? : 1\n",
      "New : 1\n",
      "Python : 5\n",
      "Read : 1\n",
      "and : 1\n",
      "between : 1\n",
      "choosing : 1\n",
      "or : 2\n",
      "to : 1\n"
     ]
    }
   ],
   "source": [
    "string = str(input(\"Enter the string:- \"))\n",
    "\n",
    "l = string.split(\" \")\n",
    "\n",
    "l_distinct = list(set(l))\n",
    "l_distinct.sort()\n",
    "\n",
    "print(\"The required output is:\\n\")\n",
    "\n",
    "for i in l_distinct:\n",
    "    print(i, ':', l.count(i))"
   ]
  },
  {
   "cell_type": "markdown",
   "id": "49fc620a",
   "metadata": {},
   "source": [
    "# Question 3\n",
    "Define a class Person and its two child classes: Male and Female. All classes have a\n",
    "method &quot;getGender&quot; which can print &quot;Male&quot; for Male class and &quot;Female&quot; for Female\n",
    "class."
   ]
  },
  {
   "cell_type": "code",
   "execution_count": 40,
   "id": "9cb5dce8",
   "metadata": {},
   "outputs": [],
   "source": [
    "class Person:\n",
    "    def __init__(self):\n",
    "        print(\"A person is called\\n\")\n",
    "    def getGender(self):\n",
    "        print(\"The gender of the person is not known\")\n",
    "class Male(Person):\n",
    "    def __init__(self):\n",
    "        Person.__init__(self)\n",
    "    def getGender(self):\n",
    "        print(\"The gender of the person is Male\")\n",
    "class Female(Person):\n",
    "    def __init__(self):\n",
    "        Person.__init__(self)\n",
    "    def getGender(self):\n",
    "        print(\"The gender of the person is Female\")"
   ]
  },
  {
   "cell_type": "code",
   "execution_count": 42,
   "id": "a00ab445",
   "metadata": {},
   "outputs": [
    {
     "name": "stdout",
     "output_type": "stream",
     "text": [
      "A person is called\n",
      "\n",
      "The gender of the person is not known\n",
      "A person is called\n",
      "\n",
      "The gender of the person is Male\n",
      "A person is called\n",
      "\n",
      "The gender of the person is Female\n"
     ]
    }
   ],
   "source": [
    "p1 = Person() ; p1.getGender()\n",
    "p2 = Male() ; p2.getGender()\n",
    "p3 = Female() ; p3.getGender()"
   ]
  },
  {
   "cell_type": "markdown",
   "id": "c17fa04c",
   "metadata": {},
   "source": [
    "# Question 4\n",
    "Please write a program to generate all sentences where subject is in [&quot;I&quot;, &quot;You&quot;] and\n",
    "verb is in [&quot;Play&quot;, &quot;Love&quot;] and the object is in [&quot;Hockey&quot;,&quot;Football&quot;]."
   ]
  },
  {
   "cell_type": "code",
   "execution_count": 51,
   "id": "f7991497",
   "metadata": {},
   "outputs": [
    {
     "name": "stdout",
     "output_type": "stream",
     "text": [
      "All the sentences with the given subjects, verbs and objects are:-\n",
      "\n",
      "I play Hockey\n",
      "I play Football\n",
      "I love Hockey\n",
      "I love Football\n",
      "You play Hockey\n",
      "You play Football\n",
      "You love Hockey\n",
      "You love Football\n"
     ]
    }
   ],
   "source": [
    "sub = ['I', 'You']\n",
    "verb = ['play', 'love']\n",
    "obj = ['Hockey', 'Football']\n",
    "\n",
    "print('All the sentences with the given subjects, verbs and objects are:-\\n')\n",
    "for i in sub:\n",
    "    for j in verb:\n",
    "        for k in obj:\n",
    "            print(i+' '+j+' '+k)"
   ]
  },
  {
   "cell_type": "markdown",
   "id": "aa1b9557",
   "metadata": {},
   "source": [
    "# Question 5\n",
    "Please write a program to compress and decompress the string &quot;hello world!hello\n",
    "world!hello world!hello world!&quot;."
   ]
  },
  {
   "cell_type": "code",
   "execution_count": 86,
   "id": "37f9d5f3",
   "metadata": {},
   "outputs": [
    {
     "name": "stdout",
     "output_type": "stream",
     "text": [
      "The compressed string is:  [['hello world!', 4]]\n",
      "The Decompressed string is:\n",
      "hello world!hello world!hello world!hello world!\n"
     ]
    }
   ],
   "source": [
    "comp = list()\n",
    "string = \"hello world!hello world!hello world!hello world!\"\n",
    "\n",
    "start = 0\n",
    "end = 1\n",
    "\n",
    "while (start<len(string)-1):\n",
    "    while (2*end-start<len(string)):\n",
    "        if(string[start:end] == string[end:2*end-start]):\n",
    "            count=2 ; st = string[start:end]\n",
    "            start_n = 2*end-start; l = end - start\n",
    "            while(start_n+l<=len(string) and string[start:end] == string[start_n:start_n+l]):\n",
    "                count += 1\n",
    "                start_n = start_n + l\n",
    "            start = start_n; end = start + 1\n",
    "            break;\n",
    "        else:\n",
    "            end += 1\n",
    "    else:\n",
    "        count = 1\n",
    "        st = string[start:start+1]\n",
    "        start = start+1 ; end = start+1\n",
    "    comp.append([st,  count])\n",
    "\n",
    "print('The compressed string is: ', comp)\n",
    "\n",
    "print('The Decompressed string is:')\n",
    "\n",
    "decomp = str()\n",
    "for i,j in comp:\n",
    "    decomp = decomp + j*i\n",
    "print(decomp)"
   ]
  },
  {
   "cell_type": "markdown",
   "id": "4d297157",
   "metadata": {},
   "source": [
    "# Question 6\n",
    "Please write a binary search function which searches an item in a sorted list. The\n",
    "function should return the index of element to be searched in the list."
   ]
  },
  {
   "cell_type": "code",
   "execution_count": 13,
   "id": "bc7b8bbe",
   "metadata": {},
   "outputs": [],
   "source": [
    "def binary_search(lis, ele):\n",
    "    \"\"\"Input a sorted list and the index of the element to be searched will be returned\"\"\"\n",
    "    lis.sort()\n",
    "    start = 0\n",
    "    end = len(lis)\n",
    "    mid = start+int((end-start)/2)\n",
    "    while(start<=end):\n",
    "        if(ele == lis[mid]):\n",
    "            return mid\n",
    "        elif(ele < lis[mid]):\n",
    "            end = mid - 1\n",
    "            mid = start + int((end-start)/2)\n",
    "        else:\n",
    "            start = mid +1\n",
    "            mid = start + int((end-start)/2)\n",
    "    else:\n",
    "        print(\"The element is not there in the list\")\n",
    "        return -1"
   ]
  },
  {
   "cell_type": "code",
   "execution_count": 14,
   "id": "c330f188",
   "metadata": {},
   "outputs": [
    {
     "name": "stdout",
     "output_type": "stream",
     "text": [
      "the sorted list is: \n",
      " [1, 1, 2, 2, 2, 2, 2, 3, 3, 3, 3, 3, 3, 3.6, 4, 4, 4, 4, 4, 4, 5, 5, 5, 6, 6, 7, 7, 8, 8, 9, 22, 33, 44]\n",
      "Enter the element to be searched: 3.6\n",
      "position of the element in the list: 13\n"
     ]
    }
   ],
   "source": [
    "lis = [1,2,3,4,2,3,5,2,1,5,6,8,4,2,3,3.6,4,6,7,8,9,4,3,44,3,22,4,3,5,7,33,2,4]\n",
    "lis.sort()\n",
    "print(\"the sorted list is: \\n\", lis)\n",
    "ele = float(input(\"Enter the element to be searched: \"))\n",
    "print('position of the element in the list:', binary_search(lis, ele))"
   ]
  },
  {
   "cell_type": "code",
   "execution_count": null,
   "id": "0e8ac9f6",
   "metadata": {},
   "outputs": [],
   "source": []
  }
 ],
 "metadata": {
  "kernelspec": {
   "display_name": "Python 3 (ipykernel)",
   "language": "python",
   "name": "python3"
  },
  "language_info": {
   "codemirror_mode": {
    "name": "ipython",
    "version": 3
   },
   "file_extension": ".py",
   "mimetype": "text/x-python",
   "name": "python",
   "nbconvert_exporter": "python",
   "pygments_lexer": "ipython3",
   "version": "3.9.12"
  }
 },
 "nbformat": 4,
 "nbformat_minor": 5
}
