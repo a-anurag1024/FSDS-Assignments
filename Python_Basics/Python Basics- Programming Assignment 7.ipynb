{
 "cells": [
  {
   "cell_type": "markdown",
   "id": "4431e77e",
   "metadata": {},
   "source": [
    "### Question 1: Write a Python Program to find sum of array?"
   ]
  },
  {
   "cell_type": "code",
   "execution_count": 3,
   "id": "2a583099",
   "metadata": {},
   "outputs": [
    {
     "name": "stdout",
     "output_type": "stream",
     "text": [
      "The array is:  [1, 2, 3, 4, 5, 3, 2, 1]\n",
      "The sum of the array is:  21\n"
     ]
    }
   ],
   "source": [
    "l = [1,2,3,4,5,3,2,1] # Let this be the array of interest\n",
    "\n",
    "print(\"The array is: \", l)\n",
    "\n",
    "sum = 0\n",
    "for i in l:\n",
    "    sum += i\n",
    "    \n",
    "print(\"The sum of the array is: \", sum)"
   ]
  },
  {
   "cell_type": "markdown",
   "id": "e1a61341",
   "metadata": {},
   "source": [
    "### Question 2: Write a Python Program to find largest element in an array?"
   ]
  },
  {
   "cell_type": "code",
   "execution_count": 4,
   "id": "39511c73",
   "metadata": {},
   "outputs": [],
   "source": [
    "def largest_arr(l):\n",
    "    '''returns the largest element in the supplied list'''\n",
    "    lar = l[0]\n",
    "    for i in l:\n",
    "        if(i>lar):\n",
    "            lar = i\n",
    "    return lar"
   ]
  },
  {
   "cell_type": "code",
   "execution_count": 6,
   "id": "74e284ef",
   "metadata": {},
   "outputs": [
    {
     "name": "stdout",
     "output_type": "stream",
     "text": [
      "The array is:  [1, 2, 3, 4, 5, 34, 2, 1]\n",
      "The largest element in this array is:  34\n"
     ]
    }
   ],
   "source": [
    "l = [1,2,3,4,5,34,2,1] # Let this be the array of interest\n",
    "\n",
    "print(\"The array is: \", l)\n",
    "print(\"The largest element in this array is: \", largest_arr(l))"
   ]
  },
  {
   "cell_type": "markdown",
   "id": "c14d431d",
   "metadata": {},
   "source": [
    "### Question 3: Write a Python Program for array rotation?"
   ]
  },
  {
   "cell_type": "code",
   "execution_count": 10,
   "id": "c404c468",
   "metadata": {},
   "outputs": [],
   "source": [
    "def left_array_rot(l):\n",
    "    \"\"\"returns a left rotated array\"\"\"\n",
    "    l_l = l[:]\n",
    "    for i in range(0,len(l)-1):\n",
    "        l_l[i] = l[i+1]\n",
    "    l_l[i+1] = l[0]\n",
    "    return l_l\n",
    "\n",
    "def right_array_rot(l):\n",
    "    \"\"\"returns a right rotated array\"\"\"\n",
    "    l_r = l[:]\n",
    "    for i in range(1,len(l)):\n",
    "        l_r[i] = l[i-1]\n",
    "    l_r[0] = l[len(l)-1]\n",
    "    return l_r"
   ]
  },
  {
   "cell_type": "code",
   "execution_count": 11,
   "id": "3a4e2f2c",
   "metadata": {},
   "outputs": [
    {
     "name": "stdout",
     "output_type": "stream",
     "text": [
      "A given list is:  [1, 2, 3, 4, 5, 6, 7, 8]\n",
      "Its left rotated version is:  [2, 3, 4, 5, 6, 7, 8, 1]\n",
      "Its right rotated version is:  [8, 1, 2, 3, 4, 5, 6, 7]\n"
     ]
    }
   ],
   "source": [
    "list1 = [1,2,3,4,5,6,7,8]\n",
    "print(\"A given list is: \", list1)\n",
    "print(\"Its left rotated version is: \", left_array_rot(list1))\n",
    "print(\"Its right rotated version is: \", right_array_rot(list1))"
   ]
  },
  {
   "cell_type": "markdown",
   "id": "258a085c",
   "metadata": {},
   "source": [
    "### Question 4: Write a Python Program to Split the array and add the first part to the end?"
   ]
  },
  {
   "cell_type": "code",
   "execution_count": 27,
   "id": "b51d3fa8",
   "metadata": {},
   "outputs": [],
   "source": [
    "def split_swap(l):\n",
    "    '''returns an array after splitting it into two and swapping their order'''\n",
    "    nl = []\n",
    "    for i in range(int((len(l)+1)/2)):\n",
    "        nl.append(l[i+int(len(l)/2)])\n",
    "    for i in range(int((len(l)+1)/2), len(l)):\n",
    "        nl.append(l[i-int((len(l)+1)/2)])\n",
    "    return nl"
   ]
  },
  {
   "cell_type": "code",
   "execution_count": 29,
   "id": "de40f731",
   "metadata": {},
   "outputs": [
    {
     "name": "stdout",
     "output_type": "stream",
     "text": [
      "The given list is:  [1, 2, 3, 4, 5, 6, 7, 8, 9]\n",
      "The list after the required operation is:  [5, 6, 7, 8, 9, 1, 2, 3, 4]\n"
     ]
    }
   ],
   "source": [
    "list1 = [1,2,3,4,5,6,7,8,9]\n",
    "print(\"The given list is: \", list1)\n",
    "print(\"The list after the required operation is: \", split_swap(list1))"
   ]
  },
  {
   "cell_type": "markdown",
   "id": "31cdf73a",
   "metadata": {},
   "source": [
    "### Question 5: Write a Python Program to check if given array is Monotonic?"
   ]
  },
  {
   "cell_type": "code",
   "execution_count": 35,
   "id": "dc6b27c9",
   "metadata": {},
   "outputs": [
    {
     "name": "stdout",
     "output_type": "stream",
     "text": [
      "The array is monotonous\n"
     ]
    }
   ],
   "source": [
    "l = [13,15,61,78,99,100,300] # given array\n",
    "\n",
    "fl=1\n",
    "if(l[0]<l[1]):\n",
    "    for i in range(1,len(l)-1):\n",
    "        if(l[i]>=l[i+1]):\n",
    "            fl=0\n",
    "            break\n",
    "elif(l[0]>l[1]):\n",
    "    for i in range(1,len(l)-1):\n",
    "        if(l[i]<=l[i+1]):\n",
    "            fl=0\n",
    "            break\n",
    "else:\n",
    "    fl=0\n",
    "\n",
    "if(fl==1):\n",
    "    print(\"The array is monotonous\")\n",
    "\n",
    "else:\n",
    "    print(\"The array is not monotonous\")"
   ]
  },
  {
   "cell_type": "code",
   "execution_count": null,
   "id": "9b7e00ab",
   "metadata": {},
   "outputs": [],
   "source": []
  }
 ],
 "metadata": {
  "kernelspec": {
   "display_name": "Python 3 (ipykernel)",
   "language": "python",
   "name": "python3"
  },
  "language_info": {
   "codemirror_mode": {
    "name": "ipython",
    "version": 3
   },
   "file_extension": ".py",
   "mimetype": "text/x-python",
   "name": "python",
   "nbconvert_exporter": "python",
   "pygments_lexer": "ipython3",
   "version": "3.9.12"
  }
 },
 "nbformat": 4,
 "nbformat_minor": 5
}
