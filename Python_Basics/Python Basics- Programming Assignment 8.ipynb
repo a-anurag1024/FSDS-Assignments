{
 "cells": [
  {
   "cell_type": "markdown",
   "id": "c7231d2a",
   "metadata": {},
   "source": [
    "### Question 1: Write a Python Program to Add Two Matrices?"
   ]
  },
  {
   "cell_type": "code",
   "execution_count": 19,
   "id": "8867f4c9",
   "metadata": {},
   "outputs": [
    {
     "name": "stdout",
     "output_type": "stream",
     "text": [
      "The first matrix is:  [[1, 2, 3, 4], [2, 3, 4, 5], [2, 3, 4, 5]]\n",
      "The second matrix is:  [[1, 4, 2, 1], [3, 5, 2, 1], [3, 5, 3, 2]]\n",
      "The added matrix is:  [[2, 6, 5, 5], [5, 8, 6, 6], [5, 8, 7, 7]]\n"
     ]
    }
   ],
   "source": [
    "from copy import deepcopy\n",
    "\n",
    "# let the given two matrices be:-\n",
    "m1 = [[1,2,3,4],[2,3,4,5],[2,3,4,5]]\n",
    "m2 = [[1,4,2,1],[3,5,2,1],[3,5,3,2]]\n",
    "m = deepcopy(m1)\n",
    "for i in range(len(m1)):\n",
    "    for j in range(len(m1[0])):\n",
    "        m[i][j] = m[i][j] + m2[i][j]\n",
    "print(\"The first matrix is: \", m1)\n",
    "print(\"The second matrix is: \", m2)\n",
    "print(\"The added matrix is: \", m)"
   ]
  },
  {
   "cell_type": "markdown",
   "id": "2c6a112a",
   "metadata": {},
   "source": [
    "### Question 2: Write a Python Program to Multiply Two Matrices?"
   ]
  },
  {
   "cell_type": "code",
   "execution_count": 21,
   "id": "323e38c4",
   "metadata": {},
   "outputs": [
    {
     "name": "stdout",
     "output_type": "stream",
     "text": [
      "The first matrix is:  [[1, 2, 3], [2, 3, 7]]\n",
      "The second matrix is:  [[5, 3, 2, 3], [1, 5, 2, 2], [7, 4, 2, 7]]\n",
      "The multiplied matrix is:  [[28, 25, 12, 28], [62, 49, 24, 61]]\n"
     ]
    }
   ],
   "source": [
    "# let the two given matrices be:-\n",
    "m1 = [[1,2,3], [2,3,7]]\n",
    "m2 = [[5,3,2,3], [1,5,2,2], [7,4,2,7]]\n",
    "m = []\n",
    "\n",
    "for i in range(len(m1)):\n",
    "    m_s = []\n",
    "    for j in range(len(m2[0])):\n",
    "        val = 0\n",
    "        for k in range(len(m1[0])):\n",
    "            val = val + m1[i][k]*m2[k][j]\n",
    "        m_s.append(val)\n",
    "    m.append(m_s)\n",
    "print(\"The first matrix is: \", m1)\n",
    "print(\"The second matrix is: \", m2)\n",
    "print(\"The multiplied matrix is: \", m)"
   ]
  },
  {
   "cell_type": "markdown",
   "id": "033582e7",
   "metadata": {},
   "source": [
    "### Question 3: Write a Python Program to Transpose a Matrix?"
   ]
  },
  {
   "cell_type": "code",
   "execution_count": 22,
   "id": "ef820fd5",
   "metadata": {},
   "outputs": [
    {
     "name": "stdout",
     "output_type": "stream",
     "text": [
      "The given matrix is:  [[1, 2, 3], [4, 5, 6], [7, 8, 9], [10, 11, 12]]\n",
      "The transposed matrix is:  [[1, 4, 7, 10], [2, 5, 8, 11], [3, 6, 9, 12]]\n"
     ]
    }
   ],
   "source": [
    "# let the given matrix be:-\n",
    "m1 = [[1,2,3],[4,5,6],[7,8,9],[10,11,12]]\n",
    "\n",
    "m_t = []\n",
    "\n",
    "for i in range(len(m1[0])):\n",
    "    m_r = []\n",
    "    for j in range(len(m1)):\n",
    "        m_r.append(m1[j][i])\n",
    "    m_t.append(m_r)\n",
    "\n",
    "print(\"The given matrix is: \", m1)\n",
    "print(\"The transposed matrix is: \", m_t)"
   ]
  },
  {
   "cell_type": "markdown",
   "id": "4d65ad0c",
   "metadata": {},
   "source": [
    "### Question 4: Write a Python Program to Sort Words in Alphabetic Order?"
   ]
  },
  {
   "cell_type": "code",
   "execution_count": 31,
   "id": "23ac53c8",
   "metadata": {},
   "outputs": [
    {
     "name": "stdout",
     "output_type": "stream",
     "text": [
      "List of words before sorting:  ['zigzaw', 'apple', 'monkey', 'window', 'flight']\n",
      "List of words after sorting alphabetically:  ['apple', 'flight', 'monkey', 'window', 'zigzaw']\n"
     ]
    }
   ],
   "source": [
    "# let a list of words given be:-\n",
    "l = [\"zigzaw\", \"apple\", \"monkey\", \"window\", \"flight\"]\n",
    "\n",
    "print(\"List of words before sorting: \", l)\n",
    "l.sort()\n",
    "print(\"List of words after sorting alphabetically: \", l)"
   ]
  },
  {
   "cell_type": "markdown",
   "id": "46001196",
   "metadata": {},
   "source": [
    "### Question 5: Write a Python Program to Remove Punctuation From a String?"
   ]
  },
  {
   "cell_type": "code",
   "execution_count": 44,
   "id": "0e8dbdaf",
   "metadata": {},
   "outputs": [
    {
     "name": "stdout",
     "output_type": "stream",
     "text": [
      "The string before removing punctuations:  Friends, Romans, countrymen, lend me your ears; I come to bury Caesar, not to praise him. The evil that men do lives after them; The good is oft interred with their bones;\n",
      "\n",
      "\n",
      " The sring after removing punctuations:  Friends Romans countrymen lend me your ears I come to bury Caesar not to praise him The evil that men do lives after them The good is oft interred with their bones\n"
     ]
    }
   ],
   "source": [
    "# let the given string be:-\n",
    "st = \"\"\"Friends, Romans, countrymen, lend me your ears; I come to bury Caesar, not to praise him. The evil that men do lives after them; The good is oft interred with their bones;\"\"\"\n",
    "\n",
    "punctuations = \"\"\"!~`@#$%^&*()_-{}[]:;\"''|\\<>,.?/\"\"\"\n",
    "\n",
    "print(\"The string before removing punctuations: \", st)\n",
    "for i in st:\n",
    "    if(i in punctuations):\n",
    "        st = st.replace(i , '')\n",
    "print(\"\\n\\n The sring after removing punctuations: \", st)"
   ]
  },
  {
   "cell_type": "code",
   "execution_count": null,
   "id": "4212ecd3",
   "metadata": {},
   "outputs": [],
   "source": []
  }
 ],
 "metadata": {
  "kernelspec": {
   "display_name": "Python 3 (ipykernel)",
   "language": "python",
   "name": "python3"
  },
  "language_info": {
   "codemirror_mode": {
    "name": "ipython",
    "version": 3
   },
   "file_extension": ".py",
   "mimetype": "text/x-python",
   "name": "python",
   "nbconvert_exporter": "python",
   "pygments_lexer": "ipython3",
   "version": "3.9.12"
  }
 },
 "nbformat": 4,
 "nbformat_minor": 5
}
