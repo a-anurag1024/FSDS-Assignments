{
 "cells": [
  {
   "cell_type": "markdown",
   "id": "d71916d1",
   "metadata": {},
   "source": [
    "# Question 1\n",
    "Please write a program using generator to print the numbers which can be divisible by 5 and\n",
    "7 between 0 and n in comma separated form while n is input by console.\n",
    "Example:\n",
    "If the following n is given as input to the program:\n",
    "100\n",
    "Then, the output of the program should be:\n",
    "0,35,70"
   ]
  },
  {
   "cell_type": "code",
   "execution_count": 6,
   "id": "0e553650",
   "metadata": {},
   "outputs": [
    {
     "name": "stdout",
     "output_type": "stream",
     "text": [
      "Enter the number(n):-100\n",
      "the numbers divisible by both 5 and 7 in the range [0,n]:  [0, 35, 70]\n"
     ]
    }
   ],
   "source": [
    "def gen_div_nums(n):\n",
    "    for i in range(0,n+1):\n",
    "        if (i%5==0 and i%7==0):\n",
    "            yield i\n",
    "n = int(input(\"Enter the number(n):-\"))\n",
    "\n",
    "print(\"the numbers divisible by both 5 and 7 in the range [0,n]: \", [i for i in gen_div_nums(n)])"
   ]
  },
  {
   "cell_type": "markdown",
   "id": "d7adc147",
   "metadata": {},
   "source": [
    "# Question 2\n",
    "Please write a program using generator to print the even numbers between 0 and n in comma\n",
    "separated form while n is input by console.\n",
    "\n",
    "Example:\n",
    "If the following n is given as input to the program:\n",
    "10\n",
    "\n",
    "Then, the output of the program should be:\n",
    "\n",
    "0,2,4,6,8,10"
   ]
  },
  {
   "cell_type": "code",
   "execution_count": 8,
   "id": "1444f10b",
   "metadata": {},
   "outputs": [
    {
     "name": "stdout",
     "output_type": "stream",
     "text": [
      "Enter the number(n):-10\n",
      "the numbers divisible by 2 in the range [0,n]:  [0, 2, 4, 6, 8, 10]\n"
     ]
    }
   ],
   "source": [
    "def gen_even(n):\n",
    "    for i in range(n+1):\n",
    "        if(i%2 == 0):\n",
    "            yield i\n",
    "\n",
    "n = int(input(\"Enter the number(n):-\"))\n",
    "\n",
    "print(\"the numbers divisible by 2 in the range [0,n]: \", [i for i in gen_even(n)])"
   ]
  },
  {
   "cell_type": "markdown",
   "id": "96986605",
   "metadata": {},
   "source": [
    "# Question 3\n",
    "The Fibonacci Sequence is computed based on the following formula:\n",
    "\n",
    "f(n)=0 if n=0\n",
    "\n",
    "f(n)=1 if n=1\n",
    "\n",
    "f(n)=f(n-1)+f(n-2) if n&gt;1\n",
    "\n",
    "Please write a program using list comprehension to print the Fibonacci Sequence in comma\n",
    "separated form with a given n input by console.\n",
    "\n",
    "Example:\n",
    "If the following n is given as input to the program:\n",
    "\n",
    "Then, the output of the program should be:\n",
    "0,1,1,2,3,5,8,13"
   ]
  },
  {
   "cell_type": "code",
   "execution_count": 18,
   "id": "ac8645dd",
   "metadata": {},
   "outputs": [
    {
     "name": "stdout",
     "output_type": "stream",
     "text": [
      "Enter n:10\n"
     ]
    }
   ],
   "source": [
    "n = int(input(\"Enter n:\"))\n",
    "\n",
    "fib = [0, 1]\n",
    "r = [fib.append(fib[k]+fib[k+1]) for k in range(n)]"
   ]
  },
  {
   "cell_type": "code",
   "execution_count": 19,
   "id": "3328c441",
   "metadata": {},
   "outputs": [
    {
     "name": "stdout",
     "output_type": "stream",
     "text": [
      "The fibonacii series upto n+2 terms are: [0, 1, 1, 2, 3, 5, 8, 13, 21, 34, 55, 89]\n"
     ]
    }
   ],
   "source": [
    "print(\"The fibonacii series upto n+2 terms are:\", fib)"
   ]
  },
  {
   "cell_type": "markdown",
   "id": "d55d156e",
   "metadata": {},
   "source": [
    "# Question 4\n",
    "Assuming that we have some email addresses in the &quot;username@companyname.com&quot; format,\n",
    "please write program to print the user name of a given email address. Both user names and\n",
    "company names are composed of letters only.\n",
    "\n",
    "Example:\n",
    "If the following email address is given as input to the program:\n",
    "\n",
    "john@google.com\n",
    "\n",
    "Then, the output of the program should be:\n",
    "\n",
    "john"
   ]
  },
  {
   "cell_type": "code",
   "execution_count": 21,
   "id": "e83300ef",
   "metadata": {},
   "outputs": [
    {
     "name": "stdout",
     "output_type": "stream",
     "text": [
      "Enter the email address:aditya@microsoft.com\n",
      "User name: aditya\n"
     ]
    }
   ],
   "source": [
    "email = input(\"Enter the email address:\")\n",
    "name = email.strip().split('@')[0]\n",
    "\n",
    "print(\"User name:\", name)"
   ]
  },
  {
   "cell_type": "markdown",
   "id": "3c4e04eb",
   "metadata": {},
   "source": [
    "# Question 5\n",
    "Define a class named Shape and its subclass Square. The Square class has an init function\n",
    "which takes a length as argument. Both classes have a area function which can print the area\n",
    "of the shape where Shape&#39;s area is 0 by default."
   ]
  },
  {
   "cell_type": "code",
   "execution_count": 24,
   "id": "a9708c38",
   "metadata": {},
   "outputs": [],
   "source": [
    "class Shape:\n",
    "    def area(self):\n",
    "        print(\"Area = 0\")\n",
    "\n",
    "class Square(Shape):\n",
    "    def __init__(self, l):\n",
    "        self.l = l\n",
    "    \n",
    "    def area(self):\n",
    "        print(\"Area =\", self.l*self.l)"
   ]
  },
  {
   "cell_type": "code",
   "execution_count": 25,
   "id": "535bd322",
   "metadata": {},
   "outputs": [
    {
     "name": "stdout",
     "output_type": "stream",
     "text": [
      "Area = 0\n",
      "Area = 25\n"
     ]
    }
   ],
   "source": [
    "s = Shape()\n",
    "sq = Square(5)\n",
    "\n",
    "s.area()\n",
    "sq.area()"
   ]
  },
  {
   "cell_type": "code",
   "execution_count": null,
   "id": "45d2cad1",
   "metadata": {},
   "outputs": [],
   "source": []
  }
 ],
 "metadata": {
  "kernelspec": {
   "display_name": "Python 3 (ipykernel)",
   "language": "python",
   "name": "python3"
  },
  "language_info": {
   "codemirror_mode": {
    "name": "ipython",
    "version": 3
   },
   "file_extension": ".py",
   "mimetype": "text/x-python",
   "name": "python",
   "nbconvert_exporter": "python",
   "pygments_lexer": "ipython3",
   "version": "3.9.12"
  }
 },
 "nbformat": 4,
 "nbformat_minor": 5
}
