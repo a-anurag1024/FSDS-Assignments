{
 "cells": [
  {
   "cell_type": "markdown",
   "id": "663e7b4b",
   "metadata": {},
   "source": [
    "### Question 1: Write a Python program to find words which are greater than given length k?"
   ]
  },
  {
   "cell_type": "code",
   "execution_count": 9,
   "id": "6726e9af",
   "metadata": {},
   "outputs": [
    {
     "name": "stdout",
     "output_type": "stream",
     "text": [
      "Given string is: \n",
      " In theoretical physics, quantum field theory (QFT) is a theoretical framework that combines classical field theory, special relativity, and quantum mechanics. QFT is used in particle physics to construct physical models of subatomic particles and in condensed matter physics to construct models of quasiparticles.\n",
      "\n",
      "QFT treats particles as excited states (also called quanta) of their underlying quantum fields, which are more fundamental than the particles. Interactions between particles are described by interaction terms in the Lagrangian involving their corresponding quantum fields. Each interaction can be visually represented by Feynman diagrams according to perturbation theory in quantum mechanics. \n",
      "\n",
      "\n",
      "\n",
      "Enter the minimum length k of the required words: 7\n",
      "\n",
      "\n",
      "The words which are greater than the given length are: \n",
      "\n",
      " {'interaction', 'special', 'fundamental', 'combines', 'theory,', 'condensed', 'quasiparticles.\\n\\nQFT', 'underlying', 'quantum', 'involving', 'particles.', 'physical', 'mechanics.', 'described', 'physics', 'represented', 'framework', 'corresponding', 'excited', 'diagrams', 'quanta)', 'fields,', 'fields.', 'Lagrangian', 'particles', 'perturbation', 'physics,', 'particle', 'construct', 'according', 'classical', 'subatomic', 'between', 'visually', 'theoretical', 'relativity,', 'Interactions', 'Feynman'}\n"
     ]
    }
   ],
   "source": [
    "# Given string:-\n",
    "st = '''In theoretical physics, quantum field theory (QFT) is a theoretical framework that combines classical field theory, special relativity, and quantum mechanics. QFT is used in particle physics to construct physical models of subatomic particles and in condensed matter physics to construct models of quasiparticles.\n",
    "\n",
    "QFT treats particles as excited states (also called quanta) of their underlying quantum fields, which are more fundamental than the particles. Interactions between particles are described by interaction terms in the Lagrangian involving their corresponding quantum fields. Each interaction can be visually represented by Feynman diagrams according to perturbation theory in quantum mechanics. '''\n",
    "\n",
    "print(\"Given string is: \\n\", st)\n",
    "\n",
    "k = int(input(\"\\n\\n\\nEnter the minimum length k of the required words: \"))\n",
    "\n",
    "words = []\n",
    "\n",
    "for i in st.split(' '):\n",
    "    if(len(i)>=k):\n",
    "        words.append(i)\n",
    "\n",
    "print(\"\\n\\nThe words which are greater than the given length are: \\n\\n\", set(words))"
   ]
  },
  {
   "cell_type": "markdown",
   "id": "bdf8c816",
   "metadata": {},
   "source": [
    "### Question 2: Write a Python program for removing i-th character from a string?"
   ]
  },
  {
   "cell_type": "code",
   "execution_count": 18,
   "id": "f3fa5644",
   "metadata": {},
   "outputs": [
    {
     "name": "stdout",
     "output_type": "stream",
     "text": [
      "Given string: \n",
      " This is a string\n",
      "Which ith character to be removed? ( < length of string): 8\n",
      "Resultant string: \n",
      " This is  string\n"
     ]
    }
   ],
   "source": [
    "# Given string:- \n",
    "st = \"This is a string\"\n",
    "\n",
    "print(\"Given string: \\n\", st)\n",
    "i = int(input(\"Which ith character to be removed? ( < length of string): \"))\n",
    "\n",
    "st1 = ''\n",
    "for j in range(len(st)):\n",
    "    if(i==j):\n",
    "        pass\n",
    "    else :\n",
    "        st1 = st1 + st[j]\n",
    "\n",
    "print(\"Resultant string: \\n\", st1)"
   ]
  },
  {
   "cell_type": "markdown",
   "id": "4a474b01",
   "metadata": {},
   "source": [
    "### Question 3: Write a Python program to split and join a string?"
   ]
  },
  {
   "cell_type": "code",
   "execution_count": 34,
   "id": "83e5c4e5",
   "metadata": {},
   "outputs": [
    {
     "name": "stdout",
     "output_type": "stream",
     "text": [
      "The given string is: \n",
      " Split this string up and join it back\n",
      "The split string is: \n",
      " ['Split', 'this', 'string', 'up', 'and', 'join', 'it', 'back']\n",
      "The rejoined string using deliminiter - is: \n",
      " Split-this-string-up-and-join-it-back\n"
     ]
    }
   ],
   "source": [
    "# Given string example:-\n",
    "st = \"Split this string up and join it back\"\n",
    "\n",
    "print(\"The given string is: \\n\", st)\n",
    "# To split\n",
    "st_sp = st.split(' ')\n",
    "\n",
    "print(\"The split string is: \\n\", st_sp)\n",
    "\n",
    "# To_join \n",
    "st_join = ''\n",
    "deliminiter = '-'\n",
    "for i in st_sp:\n",
    "    st_join += i+deliminiter;\n",
    "\n",
    "print(\"The rejoined string using deliminiter\", deliminiter, \"is: \\n\", st_join[:-1])"
   ]
  },
  {
   "cell_type": "markdown",
   "id": "710f4b1f",
   "metadata": {},
   "source": [
    "### Question 4:- Write a Python program to check if a given string is binary string or not?"
   ]
  },
  {
   "cell_type": "code",
   "execution_count": 40,
   "id": "e6d598c6",
   "metadata": {},
   "outputs": [
    {
     "name": "stdout",
     "output_type": "stream",
     "text": [
      "The given string is Binary !!\n"
     ]
    }
   ],
   "source": [
    "# Given string example: -\n",
    "st = '101010001'\n",
    "\n",
    "flag = 0\n",
    "for i in st:\n",
    "    if(i!='1' and i!='0'):\n",
    "        flag = 1\n",
    "        break\n",
    "if(flag):\n",
    "    print(\"The given string is not binary\")\n",
    "else :\n",
    "    print(\"The given string is Binary !!\")"
   ]
  },
  {
   "cell_type": "markdown",
   "id": "55e9a37e",
   "metadata": {},
   "source": [
    "### Question 5: Write a Python program to find uncommon words from two Strings?"
   ]
  },
  {
   "cell_type": "code",
   "execution_count": 43,
   "id": "357e3291",
   "metadata": {},
   "outputs": [
    {
     "name": "stdout",
     "output_type": "stream",
     "text": [
      "The two strings are: \n",
      " Alice and Bob have one Qubit each \n",
      " The Qubit with Alice is entangled with the Qubit with Bob\n",
      "The uncommon words between the two strings are: \n",
      " {'the', 'with', 'is', 'each', 'have', 'entangled', 'and', 'one'}\n"
     ]
    }
   ],
   "source": [
    "# Given two strings:- \n",
    "st1 = \"Alice and Bob have one Qubit each\"\n",
    "st2 = \"The Qubit with Alice is entangled with the Qubit with Bob\"\n",
    "\n",
    "print(\"The two strings are: \\n\", st1, \"\\n\",st2)\n",
    "l1 = st1.lower().split(' ')\n",
    "l2 = st2.lower().split(' ')\n",
    "\n",
    "uncommon = []\n",
    "\n",
    "for i in l1:\n",
    "    if(i not in l2):\n",
    "        uncommon.append(i)\n",
    "for j in l2:\n",
    "    if(j not in l1):\n",
    "        uncommon.append(j)\n",
    "\n",
    "print(\"The uncommon words between the two strings are: \\n\", set(uncommon))"
   ]
  },
  {
   "cell_type": "markdown",
   "id": "25498898",
   "metadata": {},
   "source": [
    "### Question 6: Write a Python program to find all duplicate characters in string?"
   ]
  },
  {
   "cell_type": "code",
   "execution_count": 48,
   "id": "c4e48437",
   "metadata": {},
   "outputs": [
    {
     "name": "stdout",
     "output_type": "stream",
     "text": [
      "The given string is: \n",
      " Random-string-for-the-question\n",
      "The duplicate characters are: \n",
      " {'e', 's', 't', 'o', 'r', 'i', 'n', '-'}\n"
     ]
    }
   ],
   "source": [
    "# Given string example:-\n",
    "st = \"Random-string-for-the-question\"\n",
    "\n",
    "dup = []\n",
    "\n",
    "for i in st:\n",
    "    if(st.count(i)>1):\n",
    "        dup.append(i)\n",
    "\n",
    "print(\"The given string is: \\n\", st)\n",
    "print(\"The duplicate characters are: \\n\", set(dup))"
   ]
  },
  {
   "cell_type": "markdown",
   "id": "196a2052",
   "metadata": {},
   "source": [
    "### Question 7: Write a Python Program to check if a string contains any special character?"
   ]
  },
  {
   "cell_type": "code",
   "execution_count": 51,
   "id": "a5708c5c",
   "metadata": {},
   "outputs": [
    {
     "name": "stdout",
     "output_type": "stream",
     "text": [
      "The given string is:  This is a string with some special ch@racter's\n",
      "The string contains the following special characters: \n",
      " {'@', \"'\"}\n"
     ]
    }
   ],
   "source": [
    "# Given string example:-\n",
    "st = \"This is a string with some special ch@racter's\"\n",
    "\n",
    "sp_char = '''~`!@#$%^&*()_-+={}[]:;\"\"''|\\<,>.?/'''\n",
    "\n",
    "sp_got = []\n",
    "\n",
    "print(\"The given string is: \", st)\n",
    "for i in st:\n",
    "    if (i in sp_char):\n",
    "        sp_got.append(i)\n",
    "\n",
    "if(len(sp_got)!=0):\n",
    "    print(\"The string contains the following special characters: \\n\", set(sp_got))\n",
    "else:\n",
    "    print(\"The string doesnot contain any special characters\")"
   ]
  },
  {
   "cell_type": "code",
   "execution_count": null,
   "id": "a25555f8",
   "metadata": {},
   "outputs": [],
   "source": []
  }
 ],
 "metadata": {
  "kernelspec": {
   "display_name": "Python 3 (ipykernel)",
   "language": "python",
   "name": "python3"
  },
  "language_info": {
   "codemirror_mode": {
    "name": "ipython",
    "version": 3
   },
   "file_extension": ".py",
   "mimetype": "text/x-python",
   "name": "python",
   "nbconvert_exporter": "python",
   "pygments_lexer": "ipython3",
   "version": "3.9.12"
  }
 },
 "nbformat": 4,
 "nbformat_minor": 5
}
