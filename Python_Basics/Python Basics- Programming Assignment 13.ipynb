{
 "cells": [
  {
   "cell_type": "markdown",
   "id": "33a758e8",
   "metadata": {},
   "source": [
    "### Question 1:\n",
    "\n",
    "Write a program that calculates and prints the value according to the given formula:\n",
    "Q = Square root of [(2 * C * D)/H]\n",
    "\n",
    "Following are the fixed values of C and H:\n",
    "C is 50. H is 30.\n",
    "\n",
    "D is the variable whose values should be input to your program in a comma-separated sequence.\n",
    "\n",
    "Example\n",
    "Let us assume the following comma separated input sequence is given to the program:\n",
    "100,150,180\n",
    "The output of the program should be:\n",
    "18,22,24"
   ]
  },
  {
   "cell_type": "code",
   "execution_count": 7,
   "id": "9d4f6c62",
   "metadata": {},
   "outputs": [
    {
     "name": "stdout",
     "output_type": "stream",
     "text": [
      "Enter three values (comma separated): 100, 150, 180\n",
      "The calculated values are:  18 , 22 , 24\n"
     ]
    }
   ],
   "source": [
    "C = 50;\n",
    "H = 30;\n",
    "\n",
    "def Q(D):\n",
    "    return int(((2*C*D)/H)**(0.5))\n",
    "\n",
    "a, b, c = [float(i) for i in input(\"Enter three values (comma separated): \").split(',')]\n",
    "\n",
    "print(\"The calculated values are: \", Q(a), ',', Q(b), ',', Q(c))"
   ]
  },
  {
   "cell_type": "markdown",
   "id": "3e88fce3",
   "metadata": {},
   "source": [
    "### Question 2: \n",
    "\n",
    "Write a program which takes 2 digits, X,Y as input and generates a 2-dimensional array. The\n",
    "element value in the i-th row and j-th column of the array should be i*j.\n",
    "Note: i=0,1.., X-1; j=0,1,¡Y-1.\n",
    "Example\n",
    "Suppose the following inputs are given to the program:\n",
    "3,5\n",
    "Then, the output of the program should be:\n",
    "[[0, 0, 0, 0, 0], [0, 1, 2, 3, 4], [0, 2, 4, 6, 8]]"
   ]
  },
  {
   "cell_type": "code",
   "execution_count": 10,
   "id": "b5b17867",
   "metadata": {},
   "outputs": [
    {
     "name": "stdout",
     "output_type": "stream",
     "text": [
      "Enter the dimensions of the 2-D array (comma separated): 3, 5\n",
      "The resultant array is: \n",
      " [[0, 0, 0, 0, 0], [0, 1, 2, 3, 4], [0, 2, 4, 6, 8]]\n"
     ]
    }
   ],
   "source": [
    "a , b = [int(i) for (i) in input(\"Enter the dimensions of the 2-D array (comma separated): \").split(',')]\n",
    "\n",
    "arr = []\n",
    "for i in range(a):\n",
    "    r = []\n",
    "    for j in range(b):\n",
    "        r.append(i*j)\n",
    "    arr.append(r)\n",
    "\n",
    "\n",
    "print(\"The resultant array is: \\n\", arr)"
   ]
  },
  {
   "cell_type": "markdown",
   "id": "4a855ad8",
   "metadata": {},
   "source": [
    "### Question 3:\n",
    "\n",
    "Write a program that accepts a comma separated sequence of words as input and prints the\n",
    "words in a comma-separated sequence after sorting them alphabetically.\n",
    "Suppose the following input is supplied to the program:\n",
    "without,hello,bag,world\n",
    "Then, the output should be:\n",
    "bag,hello,without,world"
   ]
  },
  {
   "cell_type": "code",
   "execution_count": 14,
   "id": "40832075",
   "metadata": {},
   "outputs": [
    {
     "name": "stdout",
     "output_type": "stream",
     "text": [
      "Enter the comma separated list of words: without, hello, bag, world\n",
      "The sorted list of words are:  ['bag', 'hello', 'without', 'world']\n"
     ]
    }
   ],
   "source": [
    "st = [i.strip() for i in input(\"Enter the comma separated list of words: \").split(',')]\n",
    "\n",
    "st.sort()\n",
    "\n",
    "print(\"The sorted list of words are: \", st)"
   ]
  },
  {
   "cell_type": "markdown",
   "id": "c9227013",
   "metadata": {},
   "source": [
    "### Question 4:\n",
    "\n",
    "Write a program that accepts a sequence of whitespace separated words as input and prints\n",
    "the words after removing all duplicate words and sorting them alphanumerically.\n",
    "Suppose the following input is supplied to the program:\n",
    "hello world and practice makes perfect and hello world again\n",
    "Then, the output should be:\n",
    "again and hello makes perfect practice world"
   ]
  },
  {
   "cell_type": "code",
   "execution_count": 17,
   "id": "b16b994b",
   "metadata": {},
   "outputs": [
    {
     "name": "stdout",
     "output_type": "stream",
     "text": [
      "Enter the whitespace separated string of words: hello world and practice makes perfect and hello world again\n",
      "The desired output is: \n",
      " again and hello makes perfect practice world \n"
     ]
    }
   ],
   "source": [
    "st = [i.strip() for i in input(\"Enter the whitespace separated string of words: \").split(' ')]\n",
    "\n",
    "nodup = list(set(st))\n",
    "\n",
    "nodup.sort()\n",
    "\n",
    "result = ''\n",
    "for i in nodup:\n",
    "    result += i + ' '\n",
    "print(\"The desired output is: \\n\", result)"
   ]
  },
  {
   "cell_type": "markdown",
   "id": "be095156",
   "metadata": {},
   "source": [
    "### Question 5: \n",
    "\n",
    "Write a program that accepts a sentence and calculate the number of letters and digits.\n",
    "Suppose the following input is supplied to the program:\n",
    "hello world! 123\n",
    "Then, the output should be:\n",
    "LETTERS 10\n",
    "DIGITS 3"
   ]
  },
  {
   "cell_type": "code",
   "execution_count": 20,
   "id": "74333002",
   "metadata": {},
   "outputs": [
    {
     "name": "stdout",
     "output_type": "stream",
     "text": [
      "Enter the string: hello world! 123\n",
      "LETTERS 10 DIGITS 3\n"
     ]
    }
   ],
   "source": [
    "st = input(\"Enter the string: \")\n",
    "\n",
    "let = 0\n",
    "dig = 0\n",
    "for i in st:\n",
    "    if(i.isalpha()):\n",
    "        let += 1\n",
    "    if(i.isnumeric()):\n",
    "        dig += 1\n",
    "\n",
    "print(\"LETTERS\", let, \"DIGITS\", dig)"
   ]
  },
  {
   "cell_type": "markdown",
   "id": "1bf8389a",
   "metadata": {},
   "source": [
    "### Question 6: \n",
    "\n",
    "A website requires the users to input username and password to register. Write a program to\n",
    "check the validity of password input by users.\n",
    "Following are the criteria for checking the password:\n",
    "1. At least 1 letter between [a-z]\n",
    "2. At least 1 number between [0-9]\n",
    "1. At least 1 letter between [A-Z]\n",
    "3. At least 1 character from [$#@]\n",
    "4. Minimum length of transaction password: 6\n",
    "5. Maximum length of transaction password: 12\n",
    "\n",
    "Your program should accept a sequence of comma separated passwords and will check them\n",
    "according to the above criteria. Passwords that match the criteria are to be printed, each\n",
    "separated by a comma.\n",
    "Example\n",
    "If the following passwords are given as input to the program:\n",
    "ABd1234@1,a F1#,2w3E*,2We3345\n",
    "Then, the output of the program should be:\n",
    "ABd1234@1"
   ]
  },
  {
   "cell_type": "code",
   "execution_count": 37,
   "id": "74cb5f83",
   "metadata": {},
   "outputs": [
    {
     "name": "stdout",
     "output_type": "stream",
     "text": [
      "Enter the passwords whose validity needs to be checked (comma separated): ABd1234@1, aF1#, 2w3E*, 2We3345\n",
      "The valid passwords are: \n",
      "ABd1234@1\n"
     ]
    }
   ],
   "source": [
    "pwds = [i for i in input(\"Enter the passwords whose validity needs to be checked (comma separated): \").split(',')]\n",
    "\n",
    "print(\"The valid passwords are: \")\n",
    "\n",
    "for i in pwds:\n",
    "    l = 0; n = 0; L =0; c =0; \n",
    "    for j in i:\n",
    "        if(j.isalpha()):\n",
    "            if(j.islower()):\n",
    "                l +=1\n",
    "            else:\n",
    "                L +=1\n",
    "        if(j.isnumeric):\n",
    "            n += 1\n",
    "        if(j in \"$#@\"):\n",
    "            c +=1\n",
    "    if(l>0 and n>0 and L>0 and c>0 and len(i)>=6 and len(i)<=12):\n",
    "        print(i)"
   ]
  },
  {
   "cell_type": "code",
   "execution_count": null,
   "id": "92c54027",
   "metadata": {},
   "outputs": [],
   "source": []
  }
 ],
 "metadata": {
  "kernelspec": {
   "display_name": "Python 3 (ipykernel)",
   "language": "python",
   "name": "python3"
  },
  "language_info": {
   "codemirror_mode": {
    "name": "ipython",
    "version": 3
   },
   "file_extension": ".py",
   "mimetype": "text/x-python",
   "name": "python",
   "nbconvert_exporter": "python",
   "pygments_lexer": "ipython3",
   "version": "3.9.12"
  }
 },
 "nbformat": 4,
 "nbformat_minor": 5
}
