{
 "cells": [
  {
   "cell_type": "markdown",
   "id": "c8f62bda",
   "metadata": {},
   "source": [
    "### Question 1: Write a Python program to find sum of elements in list?"
   ]
  },
  {
   "cell_type": "code",
   "execution_count": 2,
   "id": "cb69016c",
   "metadata": {},
   "outputs": [
    {
     "name": "stdout",
     "output_type": "stream",
     "text": [
      "The given list is  [1, 2, 3, 4, 5, 6, 7, 8, 9, 10]\n",
      "The sum of the elements is  55\n"
     ]
    }
   ],
   "source": [
    "# Given list example:- \n",
    "l = [1,2,3,4,5,6,7,8,9,10]\n",
    "\n",
    "sum = 0 \n",
    "for i in l:\n",
    "    sum += i\n",
    "\n",
    "print(\"The given list is \", l)\n",
    "print(\"The sum of the elements is \", sum)"
   ]
  },
  {
   "cell_type": "markdown",
   "id": "bcdebe4f",
   "metadata": {},
   "source": [
    "### Question 2: Write a Python program to Multiply all numbers in the list?"
   ]
  },
  {
   "cell_type": "code",
   "execution_count": 4,
   "id": "92e7a425",
   "metadata": {},
   "outputs": [
    {
     "name": "stdout",
     "output_type": "stream",
     "text": [
      "The given list is  [1, 2, 3, 4, 5, 6]\n",
      "The multiplication of the elements is  720\n"
     ]
    }
   ],
   "source": [
    "# Given list example:- \n",
    "l = [1,2,3,4,5,6]\n",
    "\n",
    "mul = 1\n",
    "for i in l:\n",
    "    mul *= i\n",
    "print(\"The given list is \", l)\n",
    "print(\"The multiplication of the elements is \", mul)"
   ]
  },
  {
   "cell_type": "markdown",
   "id": "b1cce3d2",
   "metadata": {},
   "source": [
    "### Question 3: Write a Python program to find smallest number in a list?"
   ]
  },
  {
   "cell_type": "code",
   "execution_count": 6,
   "id": "ed58e181",
   "metadata": {},
   "outputs": [
    {
     "name": "stdout",
     "output_type": "stream",
     "text": [
      "The given list is:  [6, 7, 3, 22, 3, 90, 88, 93]\n",
      "The lowest number in the list is:  3\n"
     ]
    }
   ],
   "source": [
    "# Given list example:- \n",
    "l = [6,7,3,22,3,90,88,93]\n",
    "\n",
    "low = l[0]\n",
    "for i in l:\n",
    "    if (low>i):\n",
    "        low = i\n",
    "print(\"The given list is: \", l)\n",
    "print(\"The lowest number in the list is: \", low)"
   ]
  },
  {
   "cell_type": "markdown",
   "id": "a14973bf",
   "metadata": {},
   "source": [
    "### Question 4: Write a Python program to find largest number in a list?"
   ]
  },
  {
   "cell_type": "code",
   "execution_count": 8,
   "id": "cb3857ec",
   "metadata": {},
   "outputs": [
    {
     "name": "stdout",
     "output_type": "stream",
     "text": [
      "The given list is:  [6, 7, 3, 22, 3, 190, 88, 93]\n",
      "The highest number in the list is:  190\n"
     ]
    }
   ],
   "source": [
    "# Given list example:- \n",
    "l = [6,7,3,22,3,190,88,93]\n",
    "\n",
    "hi = l[0]\n",
    "for i in l:\n",
    "    if (hi<i):\n",
    "        hi = i\n",
    "print(\"The given list is: \", l)\n",
    "print(\"The highest number in the list is: \", hi)"
   ]
  },
  {
   "cell_type": "markdown",
   "id": "a2c9307c",
   "metadata": {},
   "source": [
    "### Question 5: Write a Python program to find second largest number in a list?"
   ]
  },
  {
   "cell_type": "code",
   "execution_count": 32,
   "id": "6e426e9b",
   "metadata": {},
   "outputs": [
    {
     "name": "stdout",
     "output_type": "stream",
     "text": [
      "The given list is  [1, 2, 55, 3, 22, 90, 3, 90, 34, 2, 55]\n",
      "The second largest element in the list is  55\n"
     ]
    }
   ],
   "source": [
    "# Given list example:- \n",
    "l = [1,2,55,3,22,90,3,90,34,2,55]\n",
    "print(\"The given list is \", l)\n",
    "\n",
    "l.sort()\n",
    "\n",
    "largest = l[len(l)-1]\n",
    "second = l[len(l)-2] if len(l)>1 else l[0]\n",
    "i=1;\n",
    "while(largest==second and len(l)>1):\n",
    "    i = i+1\n",
    "    if(len(l)-i==0):\n",
    "        second = l[len(l)-i]\n",
    "        break\n",
    "    second = l[len(l)-i]\n",
    "\n",
    "print(\"The second largest element in the list is \", second)"
   ]
  },
  {
   "cell_type": "markdown",
   "id": "b5b4c031",
   "metadata": {},
   "source": [
    "### Question 6: Write a Python program to find N largest elements from a list?"
   ]
  },
  {
   "cell_type": "code",
   "execution_count": 43,
   "id": "8e64c325",
   "metadata": {},
   "outputs": [
    {
     "name": "stdout",
     "output_type": "stream",
     "text": [
      "The given list is  [1, 2, 4, 52, 5, 23, 42, 1, 55, 32, 77, 43, 76, 77, 55, 90]\n",
      "Which N largest element of the list do you want? (Give N<lenth of list): 6\n",
      "The Nth largest element of the given list is:  43\n"
     ]
    }
   ],
   "source": [
    "# Given list example:- \n",
    "l = [1,2,4,52,5,23,42,1,55,32,77,43,76,77,55,90]\n",
    "print(\"The given list is \", l)\n",
    "N = int(input(\"Which N largest element of the list do you want? (Give N<lenth of list): \"))\n",
    "\n",
    "l.sort()\n",
    "k = 1\n",
    "num = l[len(l)-1]\n",
    "for i in range(len(l)-1,0,-1):\n",
    "    if(l[i]==l[i-1]):\n",
    "        continue\n",
    "    else:\n",
    "        k = k+1\n",
    "        if(N==k):\n",
    "            num = l[i-1]\n",
    "            break\n",
    "else:\n",
    "    num = l[0]\n",
    "\n",
    "\n",
    "print(\"The Nth largest element of the given list is: \", num)"
   ]
  },
  {
   "cell_type": "markdown",
   "id": "660a42de",
   "metadata": {},
   "source": [
    "### Question 7: Write a Python program to print even numbers in a list?"
   ]
  },
  {
   "cell_type": "code",
   "execution_count": 45,
   "id": "6da73d7d",
   "metadata": {},
   "outputs": [
    {
     "name": "stdout",
     "output_type": "stream",
     "text": [
      "The given list is:  [1, 2, 46, 2, 55, 2, 77, 47, 34, 84, 22, 15, 321, 5]\n",
      "The even numbers in the list are:  [2, 46, 2, 2, 34, 84, 22]\n"
     ]
    }
   ],
   "source": [
    "# Given list example:-\n",
    "l = [1,2,46,2,55,2,77,47,34,84,22,15,321,5]\n",
    "\n",
    "print(\"The given list is: \", l)\n",
    "\n",
    "evl = []\n",
    "for i in l:\n",
    "    if i%2 == 0:\n",
    "        evl.append(i)\n",
    "        \n",
    "print(\"The even numbers in the list are: \", evl)"
   ]
  },
  {
   "cell_type": "markdown",
   "id": "3102b39c",
   "metadata": {},
   "source": [
    "### Question 8: Write a Python program to print odd numbers in a List?"
   ]
  },
  {
   "cell_type": "code",
   "execution_count": 46,
   "id": "17b2e460",
   "metadata": {},
   "outputs": [
    {
     "name": "stdout",
     "output_type": "stream",
     "text": [
      "The given list is:  [1, 2, 46, 2, 55, 2, 77, 47, 34, 84, 22, 15, 321, 5]\n",
      "The Odd numbers in the list are:  [1, 55, 77, 47, 15, 321, 5]\n"
     ]
    }
   ],
   "source": [
    "# Given list example:-\n",
    "l = [1,2,46,2,55,2,77,47,34,84,22,15,321,5]\n",
    "\n",
    "print(\"The given list is: \", l)\n",
    "\n",
    "odl = []\n",
    "for i in l:\n",
    "    if i%2 == 1:\n",
    "        odl.append(i)\n",
    "        \n",
    "print(\"The Odd numbers in the list are: \", odl)"
   ]
  },
  {
   "cell_type": "markdown",
   "id": "a3935fc6",
   "metadata": {},
   "source": [
    "### Question 9: Write a Python program to Remove empty List from List?"
   ]
  },
  {
   "cell_type": "code",
   "execution_count": 48,
   "id": "09bfef65",
   "metadata": {},
   "outputs": [
    {
     "name": "stdout",
     "output_type": "stream",
     "text": [
      "Given list is:  [[1, 2, 3], 'aditya', [], [0, 2, 3, 4], (1, 2, 3, 4), 7, 4, [], 'anurag']\n",
      "The list after removing empty lists is:  [[1, 2, 3], 'aditya', [0, 2, 3, 4], (1, 2, 3, 4), 7, 4, 'anurag']\n"
     ]
    }
   ],
   "source": [
    "# Given list example:- \n",
    "l = [[1,2,3],\"aditya\",[],[0,2,3,4],(1,2,3,4),7,4,[],\"anurag\"]\n",
    "\n",
    "print(\"Given list is: \", l)\n",
    "for i in l:\n",
    "    if(type(i)==list and len(i)==0):\n",
    "        l.remove(i)\n",
    "print(\"The list after removing empty lists is: \", l)"
   ]
  },
  {
   "cell_type": "markdown",
   "id": "1414b7bc",
   "metadata": {},
   "source": [
    "### Question 10: Write a Python program to Cloning or Copying a list?"
   ]
  },
  {
   "cell_type": "code",
   "execution_count": 50,
   "id": "bc7a4e8d",
   "metadata": {},
   "outputs": [
    {
     "name": "stdout",
     "output_type": "stream",
     "text": [
      "Given list is: \n",
      " [(1, 3, 4), [9, 2, 3], 8, 2, 'aad', {'1': 7, 'ii': 0}, 3, 5]\n",
      "The cloned list is: \n",
      " [(1, 3, 4), [9, 2, 3], 8, 2, 'aad', {'1': 7, 'ii': 0}, 3, 5]\n",
      "A change in the new list: \n",
      " [[1, 2, 2], [9, 2, 3], 8, 2, 'aad', {'1': 7, 'ii': 0}, 3, 5]\n",
      "No corresponding change in the old list (call by value): \n",
      " [(1, 3, 4), [9, 2, 3], 8, 2, 'aad', {'1': 7, 'ii': 0}, 3, 5]\n"
     ]
    }
   ],
   "source": [
    "# Given list example:- \n",
    "l = [(1,3,4), [9,2,3], 8, 2 , \"aad\", {\"1\":7, \"ii\": 0},3,5]\n",
    "\n",
    "print(\"Given list is: \\n\", l)\n",
    "\n",
    "nl = []\n",
    "for i in l:\n",
    "    nl.append(i)\n",
    "\n",
    "print(\"The cloned list is: \\n\", nl)\n",
    "nl[0] = [1,2,2]\n",
    "print(\"A change in the new list: \\n\", nl)\n",
    "print(\"No corresponding change in the old list (call by value): \\n\", l)"
   ]
  },
  {
   "cell_type": "markdown",
   "id": "86614273",
   "metadata": {},
   "source": [
    "### Question 11: Write a Python program to Count occurrences of an element in a list?"
   ]
  },
  {
   "cell_type": "code",
   "execution_count": 53,
   "id": "df5d3819",
   "metadata": {},
   "outputs": [
    {
     "name": "stdout",
     "output_type": "stream",
     "text": [
      "The given list is:  [2, 2, 4, 5, 2, 1, 33, 6, 8, 58, 84, 68, 99, 35, 2, 5, 3, 2]\n",
      "Give the element whose occurrence needs to be calculated: 2\n",
      "The given element occurs  5 times in the given list\n"
     ]
    }
   ],
   "source": [
    "# Given list example:- \n",
    "l = [2,2,4,5,2,1,33,6,8,58,84,68,99,35,2,5,3,2]\n",
    "\n",
    "print(\"The given list is: \", l)\n",
    "\n",
    "ele = int(input(\"Give the element whose occurrence needs to be calculated: \"))\n",
    "\n",
    "print(\"The given element occurs \", l.count(ele), \"times in the given list\")"
   ]
  },
  {
   "cell_type": "code",
   "execution_count": null,
   "id": "e670fb8e",
   "metadata": {},
   "outputs": [],
   "source": []
  }
 ],
 "metadata": {
  "kernelspec": {
   "display_name": "Python 3 (ipykernel)",
   "language": "python",
   "name": "python3"
  },
  "language_info": {
   "codemirror_mode": {
    "name": "ipython",
    "version": 3
   },
   "file_extension": ".py",
   "mimetype": "text/x-python",
   "name": "python",
   "nbconvert_exporter": "python",
   "pygments_lexer": "ipython3",
   "version": "3.9.12"
  }
 },
 "nbformat": 4,
 "nbformat_minor": 5
}
